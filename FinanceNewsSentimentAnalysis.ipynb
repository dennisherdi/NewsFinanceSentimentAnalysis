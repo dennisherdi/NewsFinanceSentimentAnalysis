{
 "cells": [
  {
   "cell_type": "markdown",
   "id": "130735f5",
   "metadata": {},
   "source": [
    "# Import library"
   ]
  },
  {
   "cell_type": "code",
   "execution_count": 1,
   "id": "fc722a34",
   "metadata": {},
   "outputs": [],
   "source": [
    "import pandas as pd\n",
    "import matplotlib.pyplot as plt\n",
    "%matplotlib inline\n",
    "import re\n",
    "import nltk\n",
    "from nltk.tokenize import TweetTokenizer\n",
    "from nltk import FreqDist\n",
    "import string\n"
   ]
  },
  {
   "cell_type": "markdown",
   "id": "958daa8f",
   "metadata": {},
   "source": [
    "# Read Data File"
   ]
  },
  {
   "cell_type": "code",
   "execution_count": 2,
   "id": "0bf22a61",
   "metadata": {},
   "outputs": [],
   "source": [
    "df = pd.read_csv('financial_news_data.csv')"
   ]
  },
  {
   "cell_type": "code",
   "execution_count": 3,
   "id": "97f536fe",
   "metadata": {},
   "outputs": [
    {
     "data": {
      "text/html": [
       "<div>\n",
       "<style scoped>\n",
       "    .dataframe tbody tr th:only-of-type {\n",
       "        vertical-align: middle;\n",
       "    }\n",
       "\n",
       "    .dataframe tbody tr th {\n",
       "        vertical-align: top;\n",
       "    }\n",
       "\n",
       "    .dataframe thead th {\n",
       "        text-align: right;\n",
       "    }\n",
       "</style>\n",
       "<table border=\"1\" class=\"dataframe\">\n",
       "  <thead>\n",
       "    <tr style=\"text-align: right;\">\n",
       "      <th></th>\n",
       "      <th>sentiment</th>\n",
       "      <th>news_headline</th>\n",
       "    </tr>\n",
       "  </thead>\n",
       "  <tbody>\n",
       "    <tr>\n",
       "      <th>0</th>\n",
       "      <td>neutral</td>\n",
       "      <td>According to Gran , the company has no plans t...</td>\n",
       "    </tr>\n",
       "    <tr>\n",
       "      <th>1</th>\n",
       "      <td>neutral</td>\n",
       "      <td>Technopolis plans to develop in stages an area...</td>\n",
       "    </tr>\n",
       "    <tr>\n",
       "      <th>2</th>\n",
       "      <td>negative</td>\n",
       "      <td>The international electronic industry company ...</td>\n",
       "    </tr>\n",
       "    <tr>\n",
       "      <th>3</th>\n",
       "      <td>positive</td>\n",
       "      <td>With the new production plant the company woul...</td>\n",
       "    </tr>\n",
       "    <tr>\n",
       "      <th>4</th>\n",
       "      <td>positive</td>\n",
       "      <td>According to the company 's updated strategy f...</td>\n",
       "    </tr>\n",
       "  </tbody>\n",
       "</table>\n",
       "</div>"
      ],
      "text/plain": [
       "  sentiment                                      news_headline\n",
       "0   neutral  According to Gran , the company has no plans t...\n",
       "1   neutral  Technopolis plans to develop in stages an area...\n",
       "2  negative  The international electronic industry company ...\n",
       "3  positive  With the new production plant the company woul...\n",
       "4  positive  According to the company 's updated strategy f..."
      ]
     },
     "execution_count": 3,
     "metadata": {},
     "output_type": "execute_result"
    }
   ],
   "source": [
    "df.head()"
   ]
  },
  {
   "cell_type": "code",
   "execution_count": 4,
   "id": "ebc0beb5",
   "metadata": {},
   "outputs": [
    {
     "data": {
      "text/plain": [
       "neutral     2878\n",
       "positive    1362\n",
       "negative     603\n",
       "Name: sentiment, dtype: int64"
      ]
     },
     "execution_count": 4,
     "metadata": {},
     "output_type": "execute_result"
    }
   ],
   "source": [
    "df.sentiment.value_counts()"
   ]
  },
  {
   "cell_type": "markdown",
   "id": "a8cfaf54",
   "metadata": {},
   "source": [
    "Ada 3 kelas berbeda yang berkaitan dengan sentimen."
   ]
  },
  {
   "cell_type": "code",
   "execution_count": 5,
   "id": "7fb2dcc1",
   "metadata": {
    "scrolled": true
   },
   "outputs": [
    {
     "name": "stdout",
     "output_type": "stream",
     "text": [
      "<class 'pandas.core.frame.DataFrame'>\n",
      "RangeIndex: 4843 entries, 0 to 4842\n",
      "Data columns (total 2 columns):\n",
      " #   Column         Non-Null Count  Dtype \n",
      "---  ------         --------------  ----- \n",
      " 0   sentiment      4843 non-null   object\n",
      " 1   news_headline  4843 non-null   object\n",
      "dtypes: object(2)\n",
      "memory usage: 75.8+ KB\n"
     ]
    }
   ],
   "source": [
    "df.info()"
   ]
  },
  {
   "cell_type": "markdown",
   "id": "d4db8a73",
   "metadata": {},
   "source": [
    "melihat apakah ada missing value atau tidak"
   ]
  },
  {
   "cell_type": "code",
   "execution_count": 6,
   "id": "55a9c727",
   "metadata": {},
   "outputs": [
    {
     "name": "stdout",
     "output_type": "stream",
     "text": [
      "Number of missing values per feature\n"
     ]
    },
    {
     "data": {
      "text/plain": [
       "sentiment        0\n",
       "news_headline    0\n",
       "dtype: int64"
      ]
     },
     "execution_count": 6,
     "metadata": {},
     "output_type": "execute_result"
    }
   ],
   "source": [
    "print('Number of missing values per feature')\n",
    "df.isna().sum()"
   ]
  },
  {
   "cell_type": "code",
   "execution_count": 7,
   "id": "50a4f4ff",
   "metadata": {
    "scrolled": true
   },
   "outputs": [
    {
     "name": "stdout",
     "output_type": "stream",
     "text": [
      "Is there any duplicated rows? \n",
      "True\n",
      "\n",
      "How many? \n",
      "6 rows\n"
     ]
    }
   ],
   "source": [
    "print(f\"Is there any duplicated rows? \\n{df.duplicated().any()}\") #melihat duplikat dari data\n",
    "print(f\"\\nHow many? \\n{df.duplicated().sum()} rows\")"
   ]
  },
  {
   "cell_type": "code",
   "execution_count": 8,
   "id": "fdec8ebf",
   "metadata": {},
   "outputs": [
    {
     "data": {
      "text/html": [
       "<div>\n",
       "<style scoped>\n",
       "    .dataframe tbody tr th:only-of-type {\n",
       "        vertical-align: middle;\n",
       "    }\n",
       "\n",
       "    .dataframe tbody tr th {\n",
       "        vertical-align: top;\n",
       "    }\n",
       "\n",
       "    .dataframe thead th {\n",
       "        text-align: right;\n",
       "    }\n",
       "</style>\n",
       "<table border=\"1\" class=\"dataframe\">\n",
       "  <thead>\n",
       "    <tr style=\"text-align: right;\">\n",
       "      <th></th>\n",
       "      <th>sentiment</th>\n",
       "      <th>news_headline</th>\n",
       "    </tr>\n",
       "  </thead>\n",
       "  <tbody>\n",
       "    <tr>\n",
       "      <th>0</th>\n",
       "      <td>neutral</td>\n",
       "      <td>According to Gran , the company has no plans t...</td>\n",
       "    </tr>\n",
       "    <tr>\n",
       "      <th>1</th>\n",
       "      <td>neutral</td>\n",
       "      <td>Technopolis plans to develop in stages an area...</td>\n",
       "    </tr>\n",
       "    <tr>\n",
       "      <th>2</th>\n",
       "      <td>negative</td>\n",
       "      <td>The international electronic industry company ...</td>\n",
       "    </tr>\n",
       "    <tr>\n",
       "      <th>3</th>\n",
       "      <td>positive</td>\n",
       "      <td>With the new production plant the company woul...</td>\n",
       "    </tr>\n",
       "    <tr>\n",
       "      <th>4</th>\n",
       "      <td>positive</td>\n",
       "      <td>According to the company 's updated strategy f...</td>\n",
       "    </tr>\n",
       "    <tr>\n",
       "      <th>...</th>\n",
       "      <td>...</td>\n",
       "      <td>...</td>\n",
       "    </tr>\n",
       "    <tr>\n",
       "      <th>4838</th>\n",
       "      <td>negative</td>\n",
       "      <td>LONDON MarketWatch -- Share prices ended lower...</td>\n",
       "    </tr>\n",
       "    <tr>\n",
       "      <th>4839</th>\n",
       "      <td>neutral</td>\n",
       "      <td>Rinkuskiai 's beer sales fell by 6.5 per cent ...</td>\n",
       "    </tr>\n",
       "    <tr>\n",
       "      <th>4840</th>\n",
       "      <td>negative</td>\n",
       "      <td>Operating profit fell to EUR 35.4 mn from EUR ...</td>\n",
       "    </tr>\n",
       "    <tr>\n",
       "      <th>4841</th>\n",
       "      <td>negative</td>\n",
       "      <td>Net sales of the Paper segment decreased to EU...</td>\n",
       "    </tr>\n",
       "    <tr>\n",
       "      <th>4842</th>\n",
       "      <td>negative</td>\n",
       "      <td>Sales in Finland decreased by 10.5 % in Januar...</td>\n",
       "    </tr>\n",
       "  </tbody>\n",
       "</table>\n",
       "<p>4837 rows × 2 columns</p>\n",
       "</div>"
      ],
      "text/plain": [
       "     sentiment                                      news_headline\n",
       "0      neutral  According to Gran , the company has no plans t...\n",
       "1      neutral  Technopolis plans to develop in stages an area...\n",
       "2     negative  The international electronic industry company ...\n",
       "3     positive  With the new production plant the company woul...\n",
       "4     positive  According to the company 's updated strategy f...\n",
       "...        ...                                                ...\n",
       "4838  negative  LONDON MarketWatch -- Share prices ended lower...\n",
       "4839   neutral  Rinkuskiai 's beer sales fell by 6.5 per cent ...\n",
       "4840  negative  Operating profit fell to EUR 35.4 mn from EUR ...\n",
       "4841  negative  Net sales of the Paper segment decreased to EU...\n",
       "4842  negative  Sales in Finland decreased by 10.5 % in Januar...\n",
       "\n",
       "[4837 rows x 2 columns]"
      ]
     },
     "execution_count": 8,
     "metadata": {},
     "output_type": "execute_result"
    }
   ],
   "source": [
    "df.drop_duplicates(subset=None, keep='first', inplace=False, ignore_index=False) #menghaopus data duplikat"
   ]
  },
  {
   "cell_type": "markdown",
   "id": "e9f313db",
   "metadata": {},
   "source": [
    "## Distribution of Classes"
   ]
  },
  {
   "cell_type": "code",
   "execution_count": 9,
   "id": "5e93d7b7",
   "metadata": {
    "scrolled": true
   },
   "outputs": [
    {
     "data": {
      "image/png": "[encoded data removed]",
      "text/plain": [
       "<Figure size 576x432 with 1 Axes>"
      ]
     },
     "metadata": {
      "needs_background": "light"
     },
     "output_type": "display_data"
    }
   ],
   "source": [
    "plt.figure(figsize=(8,6))\n",
    "df.sentiment.hist(xlabelsize=14)\n",
    "plt.title('Is There A Sentiment In The News?', fontsize=20)\n",
    "plt.ylabel('News', fontsize=16)\n",
    "plt.show()"
   ]
  },
  {
   "cell_type": "markdown",
   "id": "b6083ff4",
   "metadata": {},
   "source": [
    "terilhat bahwa sentimen netral yg lebih banyak dibandingan negatif dan positif"
   ]
  },
  {
   "cell_type": "code",
   "execution_count": 10,
   "id": "85c0538e",
   "metadata": {},
   "outputs": [],
   "source": [
    "df['news_len'] = df.news_headline.apply(len) #membuat kolom baru untuk melihat panjang dari kalimat"
   ]
  },
  {
   "cell_type": "code",
   "execution_count": 11,
   "id": "430b9c86",
   "metadata": {},
   "outputs": [
    {
     "data": {
      "image/png": "[encoded data removed]",
      "text/plain": [
       "<Figure size 432x288 with 1 Axes>"
      ]
     },
     "metadata": {
      "needs_background": "light"
     },
     "output_type": "display_data"
    }
   ],
   "source": [
    "df.news_len.hist()\n",
    "plt.title('news Length for All News')\n",
    "plt.xlabel('News Lengh')\n",
    "plt.ylabel('# of News')\n",
    "plt.show()"
   ]
  },
  {
   "cell_type": "markdown",
   "id": "012176ac",
   "metadata": {},
   "source": [
    "melihat distribusi dari banyak nya kalimat di setiap data"
   ]
  },
  {
   "cell_type": "code",
   "execution_count": 12,
   "id": "91986f64",
   "metadata": {},
   "outputs": [],
   "source": [
    "import string"
   ]
  },
  {
   "cell_type": "markdown",
   "id": "7a19c99c",
   "metadata": {},
   "source": [
    "## Cleaning"
   ]
  },
  {
   "cell_type": "code",
   "execution_count": 13,
   "id": "07b1979a",
   "metadata": {},
   "outputs": [],
   "source": [
    "def remove_punct(text): #menghapus tanda baca\n",
    "    text_nopunct = ' '\n",
    "    text_nopunct = re.sub('['+string.punctuation+']', ' ', text)\n",
    "    return text_nopunct\n",
    "\n",
    "df['Text_Clean'] = df['news_headline'].apply(lambda x: remove_punct(x))"
   ]
  },
  {
   "cell_type": "code",
   "execution_count": 14,
   "id": "f903e076",
   "metadata": {},
   "outputs": [],
   "source": [
    "# fungsi clean digunakan membersihkan simbol atau frasa yang tidak diperlukan\n",
    "def cleanNews(news):\n",
    "    news = news.lower()\n",
    "    news = re.sub(r'\\d+', ' ', news) # remove digits\n",
    "    news = re.sub(r'\\n', ' ', news) # remove enter to 1 space\n",
    "    news = re.sub(r'\\s+', ' ', news)# remove extra spaces\n",
    "    return news\n",
    "\n",
    "# mengaplikasikan proses cleaning\n",
    "df['text_new'] = df.Text_Clean.astype(str).apply(cleanNews)"
   ]
  },
  {
   "cell_type": "code",
   "execution_count": 15,
   "id": "43a6abc7",
   "metadata": {},
   "outputs": [],
   "source": [
    "from nltk import word_tokenize, WordNetLemmatizer\n",
    "tokens = [word_tokenize(sen) for sen in df.text_new] "
   ]
  },
  {
   "cell_type": "code",
   "execution_count": 16,
   "id": "4d70950b",
   "metadata": {},
   "outputs": [],
   "source": [
    "def lower_token(tokens): \n",
    "    return [w.lower() for w in tokens]    \n",
    "    \n",
    "lower_tokens = [lower_token(token) for token in tokens] "
   ]
  },
  {
   "cell_type": "code",
   "execution_count": 17,
   "id": "13dc6224",
   "metadata": {},
   "outputs": [],
   "source": [
    "from nltk.corpus import stopwords\n",
    "stoplist = stopwords.words('english')"
   ]
  },
  {
   "cell_type": "code",
   "execution_count": 18,
   "id": "c1d36b4e",
   "metadata": {},
   "outputs": [],
   "source": [
    "def remove_stop_words(tokens): \n",
    "    return [word for word in tokens if word not in stoplist]"
   ]
  },
  {
   "cell_type": "code",
   "execution_count": 19,
   "id": "02b0c704",
   "metadata": {},
   "outputs": [],
   "source": [
    "filtered_words = [remove_stop_words(sen) for sen in lower_tokens] "
   ]
  },
  {
   "cell_type": "code",
   "execution_count": 20,
   "id": "403acf4e",
   "metadata": {},
   "outputs": [],
   "source": [
    "result = [' '.join(sen) for sen in filtered_words] "
   ]
  },
  {
   "cell_type": "code",
   "execution_count": 21,
   "id": "4562ddc5",
   "metadata": {},
   "outputs": [],
   "source": [
    "df['Text_Final'] = result"
   ]
  },
  {
   "cell_type": "code",
   "execution_count": 22,
   "id": "990681d2",
   "metadata": {},
   "outputs": [],
   "source": [
    "df['tokens'] = filtered_words"
   ]
  },
  {
   "cell_type": "code",
   "execution_count": 23,
   "id": "250c831a",
   "metadata": {},
   "outputs": [
    {
     "data": {
      "text/html": [
       "<div>\n",
       "<style scoped>\n",
       "    .dataframe tbody tr th:only-of-type {\n",
       "        vertical-align: middle;\n",
       "    }\n",
       "\n",
       "    .dataframe tbody tr th {\n",
       "        vertical-align: top;\n",
       "    }\n",
       "\n",
       "    .dataframe thead th {\n",
       "        text-align: right;\n",
       "    }\n",
       "</style>\n",
       "<table border=\"1\" class=\"dataframe\">\n",
       "  <thead>\n",
       "    <tr style=\"text-align: right;\">\n",
       "      <th></th>\n",
       "      <th>sentiment</th>\n",
       "      <th>news_headline</th>\n",
       "      <th>news_len</th>\n",
       "      <th>Text_Clean</th>\n",
       "      <th>text_new</th>\n",
       "      <th>Text_Final</th>\n",
       "      <th>tokens</th>\n",
       "    </tr>\n",
       "  </thead>\n",
       "  <tbody>\n",
       "    <tr>\n",
       "      <th>0</th>\n",
       "      <td>neutral</td>\n",
       "      <td>According to Gran , the company has no plans t...</td>\n",
       "      <td>127</td>\n",
       "      <td>According to Gran   the company has no plans t...</td>\n",
       "      <td>according to gran the company has no plans to ...</td>\n",
       "      <td>according gran company plans move production r...</td>\n",
       "      <td>[according, gran, company, plans, move, produc...</td>\n",
       "    </tr>\n",
       "    <tr>\n",
       "      <th>1</th>\n",
       "      <td>neutral</td>\n",
       "      <td>Technopolis plans to develop in stages an area...</td>\n",
       "      <td>190</td>\n",
       "      <td>Technopolis plans to develop in stages an area...</td>\n",
       "      <td>technopolis plans to develop in stages an area...</td>\n",
       "      <td>technopolis plans develop stages area less squ...</td>\n",
       "      <td>[technopolis, plans, develop, stages, area, le...</td>\n",
       "    </tr>\n",
       "    <tr>\n",
       "      <th>2</th>\n",
       "      <td>negative</td>\n",
       "      <td>The international electronic industry company ...</td>\n",
       "      <td>228</td>\n",
       "      <td>The international electronic industry company ...</td>\n",
       "      <td>the international electronic industry company ...</td>\n",
       "      <td>international electronic industry company elco...</td>\n",
       "      <td>[international, electronic, industry, company,...</td>\n",
       "    </tr>\n",
       "    <tr>\n",
       "      <th>3</th>\n",
       "      <td>positive</td>\n",
       "      <td>With the new production plant the company woul...</td>\n",
       "      <td>206</td>\n",
       "      <td>With the new production plant the company woul...</td>\n",
       "      <td>with the new production plant the company woul...</td>\n",
       "      <td>new production plant company would increase ca...</td>\n",
       "      <td>[new, production, plant, company, would, incre...</td>\n",
       "    </tr>\n",
       "    <tr>\n",
       "      <th>4</th>\n",
       "      <td>positive</td>\n",
       "      <td>According to the company 's updated strategy f...</td>\n",
       "      <td>203</td>\n",
       "      <td>According to the company  s updated strategy f...</td>\n",
       "      <td>according to the company s updated strategy fo...</td>\n",
       "      <td>according company updated strategy years baswa...</td>\n",
       "      <td>[according, company, updated, strategy, years,...</td>\n",
       "    </tr>\n",
       "    <tr>\n",
       "      <th>...</th>\n",
       "      <td>...</td>\n",
       "      <td>...</td>\n",
       "      <td>...</td>\n",
       "      <td>...</td>\n",
       "      <td>...</td>\n",
       "      <td>...</td>\n",
       "      <td>...</td>\n",
       "    </tr>\n",
       "    <tr>\n",
       "      <th>4838</th>\n",
       "      <td>negative</td>\n",
       "      <td>LONDON MarketWatch -- Share prices ended lower...</td>\n",
       "      <td>144</td>\n",
       "      <td>LONDON MarketWatch    Share prices ended lower...</td>\n",
       "      <td>london marketwatch share prices ended lower in...</td>\n",
       "      <td>london marketwatch share prices ended lower lo...</td>\n",
       "      <td>[london, marketwatch, share, prices, ended, lo...</td>\n",
       "    </tr>\n",
       "    <tr>\n",
       "      <th>4839</th>\n",
       "      <td>neutral</td>\n",
       "      <td>Rinkuskiai 's beer sales fell by 6.5 per cent ...</td>\n",
       "      <td>148</td>\n",
       "      <td>Rinkuskiai  s beer sales fell by 6 5 per cent ...</td>\n",
       "      <td>rinkuskiai s beer sales fell by per cent to mi...</td>\n",
       "      <td>rinkuskiai beer sales fell per cent million li...</td>\n",
       "      <td>[rinkuskiai, beer, sales, fell, per, cent, mil...</td>\n",
       "    </tr>\n",
       "    <tr>\n",
       "      <th>4840</th>\n",
       "      <td>negative</td>\n",
       "      <td>Operating profit fell to EUR 35.4 mn from EUR ...</td>\n",
       "      <td>108</td>\n",
       "      <td>Operating profit fell to EUR 35 4 mn from EUR ...</td>\n",
       "      <td>operating profit fell to eur mn from eur mn in...</td>\n",
       "      <td>operating profit fell eur mn eur mn including ...</td>\n",
       "      <td>[operating, profit, fell, eur, mn, eur, mn, in...</td>\n",
       "    </tr>\n",
       "    <tr>\n",
       "      <th>4841</th>\n",
       "      <td>negative</td>\n",
       "      <td>Net sales of the Paper segment decreased to EU...</td>\n",
       "      <td>226</td>\n",
       "      <td>Net sales of the Paper segment decreased to EU...</td>\n",
       "      <td>net sales of the paper segment decreased to eu...</td>\n",
       "      <td>net sales paper segment decreased eur mn secon...</td>\n",
       "      <td>[net, sales, paper, segment, decreased, eur, m...</td>\n",
       "    </tr>\n",
       "    <tr>\n",
       "      <th>4842</th>\n",
       "      <td>negative</td>\n",
       "      <td>Sales in Finland decreased by 10.5 % in Januar...</td>\n",
       "      <td>95</td>\n",
       "      <td>Sales in Finland decreased by 10 5   in Januar...</td>\n",
       "      <td>sales in finland decreased by in january while...</td>\n",
       "      <td>sales finland decreased january sales outside ...</td>\n",
       "      <td>[sales, finland, decreased, january, sales, ou...</td>\n",
       "    </tr>\n",
       "  </tbody>\n",
       "</table>\n",
       "<p>4843 rows × 7 columns</p>\n",
       "</div>"
      ],
      "text/plain": [
       "     sentiment                                      news_headline  news_len  \\\n",
       "0      neutral  According to Gran , the company has no plans t...       127   \n",
       "1      neutral  Technopolis plans to develop in stages an area...       190   \n",
       "2     negative  The international electronic industry company ...       228   \n",
       "3     positive  With the new production plant the company woul...       206   \n",
       "4     positive  According to the company 's updated strategy f...       203   \n",
       "...        ...                                                ...       ...   \n",
       "4838  negative  LONDON MarketWatch -- Share prices ended lower...       144   \n",
       "4839   neutral  Rinkuskiai 's beer sales fell by 6.5 per cent ...       148   \n",
       "4840  negative  Operating profit fell to EUR 35.4 mn from EUR ...       108   \n",
       "4841  negative  Net sales of the Paper segment decreased to EU...       226   \n",
       "4842  negative  Sales in Finland decreased by 10.5 % in Januar...        95   \n",
       "\n",
       "                                             Text_Clean  \\\n",
       "0     According to Gran   the company has no plans t...   \n",
       "1     Technopolis plans to develop in stages an area...   \n",
       "2     The international electronic industry company ...   \n",
       "3     With the new production plant the company woul...   \n",
       "4     According to the company  s updated strategy f...   \n",
       "...                                                 ...   \n",
       "4838  LONDON MarketWatch    Share prices ended lower...   \n",
       "4839  Rinkuskiai  s beer sales fell by 6 5 per cent ...   \n",
       "4840  Operating profit fell to EUR 35 4 mn from EUR ...   \n",
       "4841  Net sales of the Paper segment decreased to EU...   \n",
       "4842  Sales in Finland decreased by 10 5   in Januar...   \n",
       "\n",
       "                                               text_new  \\\n",
       "0     according to gran the company has no plans to ...   \n",
       "1     technopolis plans to develop in stages an area...   \n",
       "2     the international electronic industry company ...   \n",
       "3     with the new production plant the company woul...   \n",
       "4     according to the company s updated strategy fo...   \n",
       "...                                                 ...   \n",
       "4838  london marketwatch share prices ended lower in...   \n",
       "4839  rinkuskiai s beer sales fell by per cent to mi...   \n",
       "4840  operating profit fell to eur mn from eur mn in...   \n",
       "4841  net sales of the paper segment decreased to eu...   \n",
       "4842  sales in finland decreased by in january while...   \n",
       "\n",
       "                                             Text_Final  \\\n",
       "0     according gran company plans move production r...   \n",
       "1     technopolis plans develop stages area less squ...   \n",
       "2     international electronic industry company elco...   \n",
       "3     new production plant company would increase ca...   \n",
       "4     according company updated strategy years baswa...   \n",
       "...                                                 ...   \n",
       "4838  london marketwatch share prices ended lower lo...   \n",
       "4839  rinkuskiai beer sales fell per cent million li...   \n",
       "4840  operating profit fell eur mn eur mn including ...   \n",
       "4841  net sales paper segment decreased eur mn secon...   \n",
       "4842  sales finland decreased january sales outside ...   \n",
       "\n",
       "                                                 tokens  \n",
       "0     [according, gran, company, plans, move, produc...  \n",
       "1     [technopolis, plans, develop, stages, area, le...  \n",
       "2     [international, electronic, industry, company,...  \n",
       "3     [new, production, plant, company, would, incre...  \n",
       "4     [according, company, updated, strategy, years,...  \n",
       "...                                                 ...  \n",
       "4838  [london, marketwatch, share, prices, ended, lo...  \n",
       "4839  [rinkuskiai, beer, sales, fell, per, cent, mil...  \n",
       "4840  [operating, profit, fell, eur, mn, eur, mn, in...  \n",
       "4841  [net, sales, paper, segment, decreased, eur, m...  \n",
       "4842  [sales, finland, decreased, january, sales, ou...  \n",
       "\n",
       "[4843 rows x 7 columns]"
      ]
     },
     "execution_count": 23,
     "metadata": {},
     "output_type": "execute_result"
    }
   ],
   "source": [
    "df"
   ]
  },
  {
   "cell_type": "code",
   "execution_count": 24,
   "id": "367cf795",
   "metadata": {},
   "outputs": [],
   "source": [
    "df = df[['sentiment','Text_Final']]"
   ]
  },
  {
   "cell_type": "code",
   "execution_count": 25,
   "id": "2b236d4b",
   "metadata": {},
   "outputs": [
    {
     "data": {
      "text/html": [
       "<div>\n",
       "<style scoped>\n",
       "    .dataframe tbody tr th:only-of-type {\n",
       "        vertical-align: middle;\n",
       "    }\n",
       "\n",
       "    .dataframe tbody tr th {\n",
       "        vertical-align: top;\n",
       "    }\n",
       "\n",
       "    .dataframe thead th {\n",
       "        text-align: right;\n",
       "    }\n",
       "</style>\n",
       "<table border=\"1\" class=\"dataframe\">\n",
       "  <thead>\n",
       "    <tr style=\"text-align: right;\">\n",
       "      <th></th>\n",
       "      <th>sentiment</th>\n",
       "      <th>Text_Final</th>\n",
       "    </tr>\n",
       "  </thead>\n",
       "  <tbody>\n",
       "    <tr>\n",
       "      <th>0</th>\n",
       "      <td>neutral</td>\n",
       "      <td>according gran company plans move production r...</td>\n",
       "    </tr>\n",
       "    <tr>\n",
       "      <th>1</th>\n",
       "      <td>neutral</td>\n",
       "      <td>technopolis plans develop stages area less squ...</td>\n",
       "    </tr>\n",
       "    <tr>\n",
       "      <th>2</th>\n",
       "      <td>negative</td>\n",
       "      <td>international electronic industry company elco...</td>\n",
       "    </tr>\n",
       "    <tr>\n",
       "      <th>3</th>\n",
       "      <td>positive</td>\n",
       "      <td>new production plant company would increase ca...</td>\n",
       "    </tr>\n",
       "    <tr>\n",
       "      <th>4</th>\n",
       "      <td>positive</td>\n",
       "      <td>according company updated strategy years baswa...</td>\n",
       "    </tr>\n",
       "    <tr>\n",
       "      <th>...</th>\n",
       "      <td>...</td>\n",
       "      <td>...</td>\n",
       "    </tr>\n",
       "    <tr>\n",
       "      <th>4838</th>\n",
       "      <td>negative</td>\n",
       "      <td>london marketwatch share prices ended lower lo...</td>\n",
       "    </tr>\n",
       "    <tr>\n",
       "      <th>4839</th>\n",
       "      <td>neutral</td>\n",
       "      <td>rinkuskiai beer sales fell per cent million li...</td>\n",
       "    </tr>\n",
       "    <tr>\n",
       "      <th>4840</th>\n",
       "      <td>negative</td>\n",
       "      <td>operating profit fell eur mn eur mn including ...</td>\n",
       "    </tr>\n",
       "    <tr>\n",
       "      <th>4841</th>\n",
       "      <td>negative</td>\n",
       "      <td>net sales paper segment decreased eur mn secon...</td>\n",
       "    </tr>\n",
       "    <tr>\n",
       "      <th>4842</th>\n",
       "      <td>negative</td>\n",
       "      <td>sales finland decreased january sales outside ...</td>\n",
       "    </tr>\n",
       "  </tbody>\n",
       "</table>\n",
       "<p>4843 rows × 2 columns</p>\n",
       "</div>"
      ],
      "text/plain": [
       "     sentiment                                         Text_Final\n",
       "0      neutral  according gran company plans move production r...\n",
       "1      neutral  technopolis plans develop stages area less squ...\n",
       "2     negative  international electronic industry company elco...\n",
       "3     positive  new production plant company would increase ca...\n",
       "4     positive  according company updated strategy years baswa...\n",
       "...        ...                                                ...\n",
       "4838  negative  london marketwatch share prices ended lower lo...\n",
       "4839   neutral  rinkuskiai beer sales fell per cent million li...\n",
       "4840  negative  operating profit fell eur mn eur mn including ...\n",
       "4841  negative  net sales paper segment decreased eur mn secon...\n",
       "4842  negative  sales finland decreased january sales outside ...\n",
       "\n",
       "[4843 rows x 2 columns]"
      ]
     },
     "execution_count": 25,
     "metadata": {},
     "output_type": "execute_result"
    }
   ],
   "source": [
    "df"
   ]
  },
  {
   "cell_type": "code",
   "execution_count": 26,
   "id": "a3481299",
   "metadata": {},
   "outputs": [
    {
     "name": "stderr",
     "output_type": "stream",
     "text": [
      "c:\\users\\denni\\appdata\\local\\programs\\python\\python38\\lib\\site-packages\\pandas\\core\\generic.py:6619: SettingWithCopyWarning: \n",
      "A value is trying to be set on a copy of a slice from a DataFrame\n",
      "\n",
      "See the caveats in the documentation: https://pandas.pydata.org/pandas-docs/stable/user_guide/indexing.html#returning-a-view-versus-a-copy\n",
      "  return self._update_inplace(result)\n"
     ]
    }
   ],
   "source": [
    "# Encode target labels\n",
    "repl = {'neutral':0,'positive':1,'negative':2}\n",
    "df['sentiment'].replace(repl, inplace=True)"
   ]
  },
  {
   "cell_type": "code",
   "execution_count": 27,
   "id": "9681698a",
   "metadata": {},
   "outputs": [],
   "source": [
    "from sklearn.model_selection import train_test_split"
   ]
  },
  {
   "cell_type": "code",
   "execution_count": 28,
   "id": "c2eb42e2",
   "metadata": {},
   "outputs": [],
   "source": [
    "x_train, x_test, y_train, y_test = train_test_split(df[\"Text_Final\"],df[\"sentiment\"], test_size = 0.2, random_state = 42)"
   ]
  },
  {
   "cell_type": "code",
   "execution_count": 29,
   "id": "775a1a9f",
   "metadata": {},
   "outputs": [],
   "source": [
    "from sklearn.feature_extraction.text import CountVectorizer, TfidfTransformer"
   ]
  },
  {
   "cell_type": "code",
   "execution_count": 30,
   "id": "44931841",
   "metadata": {},
   "outputs": [],
   "source": [
    "count_vect = CountVectorizer(stop_words='english')\n",
    "transformer = TfidfTransformer(norm='l2',sublinear_tf=True)"
   ]
  },
  {
   "cell_type": "code",
   "execution_count": 31,
   "id": "33229934",
   "metadata": {},
   "outputs": [],
   "source": [
    "x_train_counts = count_vect.fit_transform(x_train)\n",
    "x_train_tfidf = transformer.fit_transform(x_train_counts)"
   ]
  },
  {
   "cell_type": "code",
   "execution_count": 32,
   "id": "2489f5a2",
   "metadata": {},
   "outputs": [
    {
     "name": "stdout",
     "output_type": "stream",
     "text": [
      "(3874, 7776)\n",
      "(3874, 7776)\n"
     ]
    }
   ],
   "source": [
    "print(x_train_counts.shape)\n",
    "print(x_train_tfidf.shape)"
   ]
  },
  {
   "cell_type": "code",
   "execution_count": 33,
   "id": "0f2ad01e",
   "metadata": {},
   "outputs": [],
   "source": [
    "x_test_counts = count_vect.transform(x_test)\n",
    "x_test_tfidf = transformer.transform(x_test_counts)"
   ]
  },
  {
   "cell_type": "code",
   "execution_count": 34,
   "id": "dea371c4",
   "metadata": {},
   "outputs": [
    {
     "name": "stdout",
     "output_type": "stream",
     "text": [
      "(969, 7776)\n",
      "(969, 7776)\n"
     ]
    }
   ],
   "source": [
    "print(x_test_counts.shape)\n",
    "print(x_test_tfidf.shape)"
   ]
  },
  {
   "cell_type": "markdown",
   "id": "d228a0b2",
   "metadata": {},
   "source": [
    "# Logistic Regression"
   ]
  },
  {
   "cell_type": "code",
   "execution_count": 35,
   "id": "e6de2dd9",
   "metadata": {},
   "outputs": [
    {
     "data": {
      "text/plain": [
       "LogisticRegression()"
      ]
     },
     "execution_count": 35,
     "metadata": {},
     "output_type": "execute_result"
    }
   ],
   "source": [
    "from sklearn.linear_model import LogisticRegression\n",
    "model1=LogisticRegression()\n",
    "model1.fit(x_train_tfidf,y_train)"
   ]
  },
  {
   "cell_type": "code",
   "execution_count": 36,
   "id": "79462391",
   "metadata": {},
   "outputs": [],
   "source": [
    "predLR=model1.predict(x_test_tfidf)"
   ]
  },
  {
   "cell_type": "code",
   "execution_count": 37,
   "id": "ee3dff49",
   "metadata": {},
   "outputs": [
    {
     "name": "stdout",
     "output_type": "stream",
     "text": [
      "[[536  23   3]\n",
      " [148 138   8]\n",
      " [ 50  18  45]]\n"
     ]
    }
   ],
   "source": [
    "from sklearn.metrics import confusion_matrix,f1_score\n",
    "c_m = confusion_matrix(y_test,predLR)\n",
    "print(c_m)"
   ]
  },
  {
   "cell_type": "code",
   "execution_count": 38,
   "id": "0d8b8c39",
   "metadata": {},
   "outputs": [
    {
     "data": {
      "text/plain": [
       "0.7420020639834881"
      ]
     },
     "execution_count": 38,
     "metadata": {},
     "output_type": "execute_result"
    }
   ],
   "source": [
    "from sklearn.metrics import accuracy_score\n",
    "accuracy_score(y_test,predLR)"
   ]
  },
  {
   "cell_type": "markdown",
   "id": "7acad609",
   "metadata": {},
   "source": [
    "# Decision Tree "
   ]
  },
  {
   "cell_type": "code",
   "execution_count": 39,
   "id": "7d9a277b",
   "metadata": {},
   "outputs": [
    {
     "data": {
      "text/plain": [
       "DecisionTreeClassifier()"
      ]
     },
     "execution_count": 39,
     "metadata": {},
     "output_type": "execute_result"
    }
   ],
   "source": [
    "from sklearn.tree import DecisionTreeClassifier\n",
    "model2=DecisionTreeClassifier()\n",
    "model2.fit(x_train_tfidf,y_train)"
   ]
  },
  {
   "cell_type": "code",
   "execution_count": 40,
   "id": "94f0a538",
   "metadata": {},
   "outputs": [],
   "source": [
    "predDT=model2.predict(x_test_tfidf)"
   ]
  },
  {
   "cell_type": "code",
   "execution_count": 41,
   "id": "97271b76",
   "metadata": {},
   "outputs": [
    {
     "name": "stdout",
     "output_type": "stream",
     "text": [
      "[[434  94  34]\n",
      " [103 168  23]\n",
      " [ 38  24  51]]\n"
     ]
    }
   ],
   "source": [
    "c_m = confusion_matrix(y_test,predDT)\n",
    "print(c_m)"
   ]
  },
  {
   "cell_type": "code",
   "execution_count": 42,
   "id": "3b30e943",
   "metadata": {},
   "outputs": [
    {
     "data": {
      "text/plain": [
       "0.673890608875129"
      ]
     },
     "execution_count": 42,
     "metadata": {},
     "output_type": "execute_result"
    }
   ],
   "source": [
    "accuracy_score(y_test,predDT)"
   ]
  },
  {
   "cell_type": "markdown",
   "id": "a58da176",
   "metadata": {},
   "source": [
    "# Support Vector Machines"
   ]
  },
  {
   "cell_type": "code",
   "execution_count": 43,
   "id": "864d5d47",
   "metadata": {},
   "outputs": [
    {
     "data": {
      "text/plain": [
       "SVC()"
      ]
     },
     "execution_count": 43,
     "metadata": {},
     "output_type": "execute_result"
    }
   ],
   "source": [
    "from sklearn.svm import SVC\n",
    "model3=SVC()\n",
    "model3.fit(x_train_tfidf,y_train)"
   ]
  },
  {
   "cell_type": "code",
   "execution_count": 44,
   "id": "e8f1324c",
   "metadata": {},
   "outputs": [],
   "source": [
    "predSVC=model3.predict(x_test_tfidf)"
   ]
  },
  {
   "cell_type": "code",
   "execution_count": 45,
   "id": "5f44f21a",
   "metadata": {},
   "outputs": [
    {
     "name": "stdout",
     "output_type": "stream",
     "text": [
      "[[542  16   4]\n",
      " [176 109   9]\n",
      " [ 55  14  44]]\n"
     ]
    }
   ],
   "source": [
    "c_m = confusion_matrix(y_test,predSVC)\n",
    "print(c_m)"
   ]
  },
  {
   "cell_type": "code",
   "execution_count": 46,
   "id": "3c596cbd",
   "metadata": {},
   "outputs": [
    {
     "data": {
      "text/plain": [
       "0.717234262125903"
      ]
     },
     "execution_count": 46,
     "metadata": {},
     "output_type": "execute_result"
    }
   ],
   "source": [
    "accuracy_score(y_test,predSVC)"
   ]
  },
  {
   "cell_type": "markdown",
   "id": "90eb832b",
   "metadata": {},
   "source": [
    "# Random Forest"
   ]
  },
  {
   "cell_type": "code",
   "execution_count": 47,
   "id": "feb820ec",
   "metadata": {},
   "outputs": [
    {
     "data": {
      "text/plain": [
       "RandomForestClassifier(n_estimators=200)"
      ]
     },
     "execution_count": 47,
     "metadata": {},
     "output_type": "execute_result"
    }
   ],
   "source": [
    "from sklearn.ensemble import RandomForestClassifier\n",
    "model4 = RandomForestClassifier(n_estimators=200)\n",
    "model4.fit(x_train_tfidf,y_train)"
   ]
  },
  {
   "cell_type": "code",
   "execution_count": 48,
   "id": "baf9e905",
   "metadata": {},
   "outputs": [],
   "source": [
    "predRF = model4.predict(x_test_tfidf)"
   ]
  },
  {
   "cell_type": "code",
   "execution_count": 49,
   "id": "0b49c682",
   "metadata": {},
   "outputs": [
    {
     "data": {
      "text/plain": [
       "array([[538,  19,   5],\n",
       "       [143, 141,  10],\n",
       "       [ 45,  17,  51]], dtype=int64)"
      ]
     },
     "execution_count": 49,
     "metadata": {},
     "output_type": "execute_result"
    }
   ],
   "source": [
    "from sklearn.metrics import confusion_matrix,f1_score\n",
    "c_m = confusion_matrix(y_test,predRF)\n",
    "c_m"
   ]
  },
  {
   "cell_type": "code",
   "execution_count": 50,
   "id": "bf97f95c",
   "metadata": {},
   "outputs": [
    {
     "data": {
      "text/plain": [
       "0.7533539731682146"
      ]
     },
     "execution_count": 50,
     "metadata": {},
     "output_type": "execute_result"
    }
   ],
   "source": [
    "accuracy_score(y_test,predRF)"
   ]
  },
  {
   "cell_type": "code",
   "execution_count": 51,
   "id": "75ef17aa",
   "metadata": {},
   "outputs": [
    {
     "name": "stdout",
     "output_type": "stream",
     "text": [
      "recall =  0.9658886894075404\n",
      "precision =  0.7900146842878121\n",
      "F1_score =  0.8691437802907915\n"
     ]
    }
   ],
   "source": [
    "tp,fn,fp,tn = c_m[0][0],c_m[0][1],c_m[1][0],c_m[1][1]\n",
    "precision = tp/(tp+fp)\n",
    "recall = tp/(tp+fn)\n",
    "f1score = 2 * (recall * precision) / (recall + precision)\n",
    "print(\"recall = \",recall)\n",
    "print(\"precision = \", precision)\n",
    "print(\"F1_score = \", f1score)"
   ]
  },
  {
   "cell_type": "code",
   "execution_count": 52,
   "id": "e551a3db",
   "metadata": {
    "scrolled": true
   },
   "outputs": [
    {
     "data": {
      "image/png": "[encoded data removed]",
      "text/plain": [
       "<Figure size 720x360 with 1 Axes>"
      ]
     },
     "metadata": {
      "needs_background": "light"
     },
     "output_type": "display_data"
    }
   ],
   "source": [
    "mod_accuracy=[accuracy_score(y_test,predLR),accuracy_score(y_test,predDT),accuracy_score(y_test,predSVC),accuracy_score(y_test,predRF)]\n",
    "models=[\"Logistic regression\",\"Decision Tree\",\"Support Vector Machines\",\"Random Forest\"]\n",
    "plt.figure(figsize=(10,5))\n",
    "plt.plot(models,mod_accuracy,'bo',linestyle='solid',linewidth=2, markersize=10)\n",
    "plt.xlabel(\"Models used\")\n",
    "plt.ylabel(\"Accuracy\")\n",
    "plt.title(\"Models vs Accuracy\")\n",
    "plt.show()"
   ]
  },
  {
   "cell_type": "code",
   "execution_count": 53,
   "id": "b11f2e4b",
   "metadata": {},
   "outputs": [
    {
     "data": {
      "text/html": [
       "<div>\n",
       "<style scoped>\n",
       "    .dataframe tbody tr th:only-of-type {\n",
       "        vertical-align: middle;\n",
       "    }\n",
       "\n",
       "    .dataframe tbody tr th {\n",
       "        vertical-align: top;\n",
       "    }\n",
       "\n",
       "    .dataframe thead th {\n",
       "        text-align: right;\n",
       "    }\n",
       "</style>\n",
       "<table border=\"1\" class=\"dataframe\">\n",
       "  <thead>\n",
       "    <tr style=\"text-align: right;\">\n",
       "      <th></th>\n",
       "      <th>sentiment</th>\n",
       "      <th>Text_Final</th>\n",
       "    </tr>\n",
       "  </thead>\n",
       "  <tbody>\n",
       "    <tr>\n",
       "      <th>0</th>\n",
       "      <td>0</td>\n",
       "      <td>according gran company plans move production r...</td>\n",
       "    </tr>\n",
       "    <tr>\n",
       "      <th>1</th>\n",
       "      <td>0</td>\n",
       "      <td>technopolis plans develop stages area less squ...</td>\n",
       "    </tr>\n",
       "    <tr>\n",
       "      <th>2</th>\n",
       "      <td>2</td>\n",
       "      <td>international electronic industry company elco...</td>\n",
       "    </tr>\n",
       "    <tr>\n",
       "      <th>3</th>\n",
       "      <td>1</td>\n",
       "      <td>new production plant company would increase ca...</td>\n",
       "    </tr>\n",
       "    <tr>\n",
       "      <th>4</th>\n",
       "      <td>1</td>\n",
       "      <td>according company updated strategy years baswa...</td>\n",
       "    </tr>\n",
       "    <tr>\n",
       "      <th>...</th>\n",
       "      <td>...</td>\n",
       "      <td>...</td>\n",
       "    </tr>\n",
       "    <tr>\n",
       "      <th>4838</th>\n",
       "      <td>2</td>\n",
       "      <td>london marketwatch share prices ended lower lo...</td>\n",
       "    </tr>\n",
       "    <tr>\n",
       "      <th>4839</th>\n",
       "      <td>0</td>\n",
       "      <td>rinkuskiai beer sales fell per cent million li...</td>\n",
       "    </tr>\n",
       "    <tr>\n",
       "      <th>4840</th>\n",
       "      <td>2</td>\n",
       "      <td>operating profit fell eur mn eur mn including ...</td>\n",
       "    </tr>\n",
       "    <tr>\n",
       "      <th>4841</th>\n",
       "      <td>2</td>\n",
       "      <td>net sales paper segment decreased eur mn secon...</td>\n",
       "    </tr>\n",
       "    <tr>\n",
       "      <th>4842</th>\n",
       "      <td>2</td>\n",
       "      <td>sales finland decreased january sales outside ...</td>\n",
       "    </tr>\n",
       "  </tbody>\n",
       "</table>\n",
       "<p>4843 rows × 2 columns</p>\n",
       "</div>"
      ],
      "text/plain": [
       "      sentiment                                         Text_Final\n",
       "0             0  according gran company plans move production r...\n",
       "1             0  technopolis plans develop stages area less squ...\n",
       "2             2  international electronic industry company elco...\n",
       "3             1  new production plant company would increase ca...\n",
       "4             1  according company updated strategy years baswa...\n",
       "...         ...                                                ...\n",
       "4838          2  london marketwatch share prices ended lower lo...\n",
       "4839          0  rinkuskiai beer sales fell per cent million li...\n",
       "4840          2  operating profit fell eur mn eur mn including ...\n",
       "4841          2  net sales paper segment decreased eur mn secon...\n",
       "4842          2  sales finland decreased january sales outside ...\n",
       "\n",
       "[4843 rows x 2 columns]"
      ]
     },
     "execution_count": 53,
     "metadata": {},
     "output_type": "execute_result"
    }
   ],
   "source": [
    "df"
   ]
  },
  {
   "cell_type": "markdown",
   "id": "e7376c70",
   "metadata": {},
   "source": [
    "### Model LSTM "
   ]
  },
  {
   "cell_type": "code",
   "execution_count": 54,
   "id": "64a224cf",
   "metadata": {},
   "outputs": [],
   "source": [
    "X = df['Text_Final']\n",
    "y = df['sentiment']"
   ]
  },
  {
   "cell_type": "code",
   "execution_count": 55,
   "id": "6259326f",
   "metadata": {},
   "outputs": [],
   "source": [
    "X_train, X_test, y_train, y_test = train_test_split(X, y,\n",
    "                                                     test_size=0.3,\n",
    "                                                     random_state=42)"
   ]
  },
  {
   "cell_type": "code",
   "execution_count": 56,
   "id": "7ffc3ea6",
   "metadata": {},
   "outputs": [],
   "source": [
    "train_data = {'text' : X_train,\n",
    "              'label': y_train}\n",
    "\n",
    "test_data  = {'text' : X_test,\n",
    "              'label': y_test}"
   ]
  },
  {
   "cell_type": "code",
   "execution_count": 57,
   "id": "712f49fc",
   "metadata": {},
   "outputs": [],
   "source": [
    "train_df = pd.DataFrame(train_data)\n",
    "test_df  = pd.DataFrame(test_data)"
   ]
  },
  {
   "cell_type": "code",
   "execution_count": 58,
   "id": "b3dc4c8a",
   "metadata": {},
   "outputs": [],
   "source": [
    "train = train_df\n",
    "test = test_df"
   ]
  },
  {
   "cell_type": "code",
   "execution_count": 59,
   "id": "5aa16d89",
   "metadata": {},
   "outputs": [],
   "source": [
    "file = open('train.txt', 'w+')\n",
    "\n",
    "for i in train.index:\n",
    "  line = '_label_'+str(train['label'][i])+' '+train['text'][i]\n",
    "  file.write(line+'\\n')"
   ]
  },
  {
   "cell_type": "code",
   "execution_count": 60,
   "id": "195052cb",
   "metadata": {},
   "outputs": [],
   "source": [
    "file = open('test.txt', 'w+')\n",
    "\n",
    "for i in test.index:\n",
    "  line = test['text'][i]\n",
    "  file.write(line+'\\n')"
   ]
  },
  {
   "cell_type": "code",
   "execution_count": 61,
   "id": "091dc558",
   "metadata": {},
   "outputs": [],
   "source": [
    "y_train = train['label'].tolist()"
   ]
  },
  {
   "cell_type": "code",
   "execution_count": 64,
   "id": "04a96051",
   "metadata": {},
   "outputs": [],
   "source": [
    "import codecs\n",
    "from tqdm import tqdm\n",
    "import numpy as np"
   ]
  },
  {
   "cell_type": "markdown",
   "id": "435ce771",
   "metadata": {},
   "source": [
    "embeding untuk mengfilter kosakata yang tidak di pakai "
   ]
  },
  {
   "cell_type": "code",
   "execution_count": 65,
   "id": "35f490f1",
   "metadata": {},
   "outputs": [
    {
     "name": "stdout",
     "output_type": "stream",
     "text": [
      "\n",
      "=============================\n",
      " > Loading Word Embeddings > \n",
      "=============================\n"
     ]
    },
    {
     "name": "stderr",
     "output_type": "stream",
     "text": [
      "999995it [01:32, 10837.47it/s]"
     ]
    },
    {
     "name": "stdout",
     "output_type": "stream",
     "text": [
      "\n",
      "\n",
      "Number of Word Vectors :  999995\n",
      "Number of Train Data   :  3390\n",
      "Number of Test Data    :  1453\n"
     ]
    },
    {
     "name": "stderr",
     "output_type": "stream",
     "text": [
      "\n"
     ]
    }
   ],
   "source": [
    "print('\\n=============================')\n",
    "print(' > Loading Word Embeddings > ')\n",
    "print('=============================')\n",
    "\n",
    "embeddings_index = {}\n",
    "\n",
    "f = codecs.open(r'C:\\Users\\denni\\Documents\\data_science\\Tugas\\wiki-news-300d-1M.vec', encoding='utf-8')\n",
    "\n",
    "for line in tqdm(f):\n",
    "  values = line.rstrip().rsplit(' ')\n",
    "  word = values[0]\n",
    "  coefs = np.asarray(values[1:], dtype='float32')\n",
    "  embeddings_index[word] = coefs\n",
    "\n",
    "f.close()\n",
    "\n",
    "print('\\n\\nNumber of Word Vectors : ', len(embeddings_index))\n",
    "print('Number of Train Data   : ', train.shape[0])\n",
    "print('Number of Test Data    : ', test.shape[0])"
   ]
  },
  {
   "cell_type": "code",
   "execution_count": 69,
   "id": "ece23281",
   "metadata": {},
   "outputs": [],
   "source": [
    "label_names = ['neutral', 'positive','negative']\n",
    "\n",
    "train['doc_len'] = train['text'].apply(lambda words: len(words.split(' ')))\n",
    "\n",
    "max_seq_len = np.max(train['doc_len'])+1"
   ]
  },
  {
   "cell_type": "code",
   "execution_count": 70,
   "id": "889c7841",
   "metadata": {},
   "outputs": [],
   "source": [
    "from keras.preprocessing.text import Tokenizer\n",
    "from keras.preprocessing import sequence"
   ]
  },
  {
   "cell_type": "code",
   "execution_count": 71,
   "id": "31b33914",
   "metadata": {},
   "outputs": [
    {
     "name": "stdout",
     "output_type": "stream",
     "text": [
      "=============================\n",
      " >> Tokenizing Input Data >> \n",
      "=============================\n",
      "Dictionary Size:  8966\n"
     ]
    }
   ],
   "source": [
    "raw_docs_train = train['text'].tolist()\n",
    "raw_docs_test  = test['text'].tolist()\n",
    "\n",
    "\n",
    "MAX_NB_WORDS = 10000\n",
    "num_classes = len(label_names)\n",
    "\n",
    "print('=============================')\n",
    "print(' >> Tokenizing Input Data >> ')\n",
    "print('=============================')\n",
    "\n",
    "tokenizer = Tokenizer(num_words=MAX_NB_WORDS,\n",
    "                      lower=True,\n",
    "                      char_level=False)\n",
    "tokenizer.fit_on_texts(raw_docs_train + raw_docs_test)\n",
    "\n",
    "\n",
    "word_seq_train = tokenizer.texts_to_sequences(raw_docs_train)\n",
    "word_seq_test  = tokenizer.texts_to_sequences(raw_docs_test)\n",
    "\n",
    "word_index = tokenizer.word_index\n",
    "\n",
    "print('Dictionary Size: ', len(word_index))\n",
    "\n",
    "word_seq_train = sequence.pad_sequences(word_seq_train, maxlen = max_seq_len)\n",
    "word_seq_test  = sequence.pad_sequences(word_seq_test, maxlen = max_seq_len)"
   ]
  },
  {
   "cell_type": "code",
   "execution_count": 72,
   "id": "e57b015c",
   "metadata": {},
   "outputs": [],
   "source": [
    "batch_size  = 256\n",
    "num_epochs  = 200\n",
    "\n",
    "embed_dim   = 300\n",
    "num_filters = 64"
   ]
  },
  {
   "cell_type": "code",
   "execution_count": 73,
   "id": "2c189390",
   "metadata": {},
   "outputs": [
    {
     "name": "stdout",
     "output_type": "stream",
     "text": [
      "==================================\n",
      " >> Preparing Embedding Matrix >> \n",
      "==================================\n",
      "Number of Null Word Embeddings : 1776\n",
      "Sample Words Not Found         : ['glaston' 'adac' 'companiesandmarkets' 'opk' 'beltton']\n"
     ]
    }
   ],
   "source": [
    "print('==================================')\n",
    "print(' >> Preparing Embedding Matrix >> ')\n",
    "print('==================================')\n",
    "\n",
    "words_not_found = []\n",
    "\n",
    "nb_words = min(MAX_NB_WORDS, len(word_index))\n",
    "\n",
    "embedding_matrix = np.zeros((nb_words+1, embed_dim))\n",
    "\n",
    "for word, i in word_index.items():\n",
    "  if i >= nb_words:\n",
    "    continue\n",
    "  embedding_vector = embeddings_index.get(word)\n",
    "  if (embedding_vector is not None) and len(embedding_vector) > 0:\n",
    "    embedding_matrix[i] = embedding_vector\n",
    "  else:\n",
    "    words_not_found.append(word)\n",
    "\n",
    "print('Number of Null Word Embeddings : %d' % np.sum(np.sum(embedding_matrix, axis=1) == 0))\n",
    "print(\"Sample Words Not Found         :\", np.random.choice(words_not_found, 5))"
   ]
  },
  {
   "cell_type": "code",
   "execution_count": 75,
   "id": "3dd50ecc",
   "metadata": {},
   "outputs": [],
   "source": [
    "from tensorflow.keras.utils import to_categorical"
   ]
  },
  {
   "cell_type": "code",
   "execution_count": 76,
   "id": "bd2aec2b",
   "metadata": {},
   "outputs": [],
   "source": [
    "target = []\n",
    "\n",
    "for i in train['label']:\n",
    "  if i == 0:\n",
    "    target.append(0)\n",
    "  elif i == 1:\n",
    "    target.append(1)\n",
    "  elif i == 2:\n",
    "    target.append(2)\n",
    "\n",
    "train['new_label'] = target\n",
    "\n",
    "train_labels = to_categorical(train['new_label'])"
   ]
  },
  {
   "cell_type": "code",
   "execution_count": 78,
   "id": "79922ca4",
   "metadata": {},
   "outputs": [],
   "source": [
    "from keras.models import Sequential, load_model\n",
    "from keras.layers import Embedding, Conv1D, MaxPooling1D, GlobalMaxPooling1D \n",
    "from keras.layers import Embedding, Bidirectional, LSTM, GRU, Dense\n",
    "# import library untuk melakukan pemodelan\n",
    "import tensorflow as tf\n",
    "import keras\n",
    "from keras.preprocessing.text import Tokenizer\n",
    "from keras.models import Sequential\n",
    "from keras.layers import Dense, Embedding, LSTM,GlobalMaxPool1D\n",
    "from keras.callbacks import EarlyStopping\n",
    "from keras.preprocessing.sequence import pad_sequences\n",
    "from keras.regularizers import l2"
   ]
  },
  {
   "cell_type": "code",
   "execution_count": 82,
   "id": "f6f079b7",
   "metadata": {},
   "outputs": [],
   "source": [
    "# model keras sequental\n",
    "model1 = keras.models.Sequential([\n",
    "    keras.layers.Embedding(nb_words+1, embed_dim,\n",
    "                    weights=[embedding_matrix],\n",
    "                    input_length=max_seq_len,\n",
    "                    trainable=False),\n",
    "    keras.layers.Dropout(0.3),\n",
    "    keras.layers.Dense(20, activation='relu'),\n",
    "    keras.layers.Dropout(0.3),\n",
    "    keras.layers.LSTM(20,activation=\"tanh\"),\n",
    "    keras.layers.Dropout(0.3),\n",
    "    keras.layers.Dense(3, activation='softmax')\n",
    "])\n",
    "# keras.utils.plot_model(model1, \"tweet.png\", show_shapes=True)"
   ]
  },
  {
   "cell_type": "code",
   "execution_count": 83,
   "id": "cb582d8a",
   "metadata": {},
   "outputs": [
    {
     "name": "stdout",
     "output_type": "stream",
     "text": [
      "Model: \"sequential_1\"\n",
      "_________________________________________________________________\n",
      " Layer (type)                Output Shape              Param #   \n",
      "=================================================================\n",
      " embedding_1 (Embedding)     (None, 42, 300)           2690100   \n",
      "                                                                 \n",
      " dropout_3 (Dropout)         (None, 42, 300)           0         \n",
      "                                                                 \n",
      " dense_2 (Dense)             (None, 42, 20)            6020      \n",
      "                                                                 \n",
      " dropout_4 (Dropout)         (None, 42, 20)            0         \n",
      "                                                                 \n",
      " lstm_1 (LSTM)               (None, 20)                3280      \n",
      "                                                                 \n",
      " dropout_5 (Dropout)         (None, 20)                0         \n",
      "                                                                 \n",
      " dense_3 (Dense)             (None, 3)                 63        \n",
      "                                                                 \n",
      "=================================================================\n",
      "Total params: 2,699,463\n",
      "Trainable params: 9,363\n",
      "Non-trainable params: 2,690,100\n",
      "_________________________________________________________________\n"
     ]
    }
   ],
   "source": [
    "model1.compile(loss='categorical_crossentropy', optimizer=tf.keras.optimizers.Adam(), metrics=['accuracy'])\n",
    "model1.summary()"
   ]
  },
  {
   "cell_type": "code",
   "execution_count": 84,
   "id": "467a29d0",
   "metadata": {},
   "outputs": [
    {
     "name": "stdout",
     "output_type": "stream",
     "text": [
      "Epoch 1/200\n",
      "11/11 - 17s - loss: 1.0438 - accuracy: 0.5822 - val_loss: 0.9914 - val_accuracy: 0.6047 - 17s/epoch - 2s/step\n",
      "Epoch 2/200\n",
      "11/11 - 0s - loss: 0.9707 - accuracy: 0.5977 - val_loss: 0.9262 - val_accuracy: 0.6047 - 144ms/epoch - 13ms/step\n",
      "Epoch 3/200\n",
      "11/11 - 0s - loss: 0.9275 - accuracy: 0.5985 - val_loss: 0.9066 - val_accuracy: 0.6047 - 148ms/epoch - 13ms/step\n",
      "Epoch 4/200\n",
      "11/11 - 0s - loss: 0.9051 - accuracy: 0.5951 - val_loss: 0.8935 - val_accuracy: 0.6047 - 165ms/epoch - 15ms/step\n",
      "Epoch 5/200\n",
      "11/11 - 0s - loss: 0.8902 - accuracy: 0.6025 - val_loss: 0.8729 - val_accuracy: 0.6106 - 145ms/epoch - 13ms/step\n",
      "Epoch 6/200\n",
      "11/11 - 0s - loss: 0.8685 - accuracy: 0.6117 - val_loss: 0.8570 - val_accuracy: 0.6342 - 143ms/epoch - 13ms/step\n",
      "Epoch 7/200\n",
      "11/11 - 0s - loss: 0.8512 - accuracy: 0.6364 - val_loss: 0.8427 - val_accuracy: 0.6401 - 166ms/epoch - 15ms/step\n",
      "Epoch 8/200\n",
      "11/11 - 0s - loss: 0.8411 - accuracy: 0.6357 - val_loss: 0.8322 - val_accuracy: 0.6475 - 159ms/epoch - 14ms/step\n",
      "Epoch 9/200\n",
      "11/11 - 0s - loss: 0.8289 - accuracy: 0.6346 - val_loss: 0.8222 - val_accuracy: 0.6593 - 146ms/epoch - 13ms/step\n",
      "Epoch 10/200\n",
      "11/11 - 0s - loss: 0.8156 - accuracy: 0.6368 - val_loss: 0.8120 - val_accuracy: 0.6534 - 144ms/epoch - 13ms/step\n",
      "Epoch 11/200\n",
      "11/11 - 0s - loss: 0.8031 - accuracy: 0.6456 - val_loss: 0.8012 - val_accuracy: 0.6460 - 139ms/epoch - 13ms/step\n",
      "Epoch 12/200\n",
      "11/11 - 0s - loss: 0.7887 - accuracy: 0.6615 - val_loss: 0.7869 - val_accuracy: 0.6475 - 148ms/epoch - 13ms/step\n",
      "Epoch 13/200\n",
      "11/11 - 0s - loss: 0.7784 - accuracy: 0.6593 - val_loss: 0.7749 - val_accuracy: 0.6563 - 155ms/epoch - 14ms/step\n",
      "Epoch 14/200\n",
      "11/11 - 0s - loss: 0.7617 - accuracy: 0.6641 - val_loss: 0.7681 - val_accuracy: 0.6608 - 139ms/epoch - 13ms/step\n",
      "Epoch 15/200\n",
      "11/11 - 0s - loss: 0.7560 - accuracy: 0.6648 - val_loss: 0.7551 - val_accuracy: 0.6608 - 139ms/epoch - 13ms/step\n",
      "Epoch 16/200\n",
      "11/11 - 0s - loss: 0.7439 - accuracy: 0.6740 - val_loss: 0.7454 - val_accuracy: 0.6652 - 135ms/epoch - 12ms/step\n",
      "Epoch 17/200\n",
      "11/11 - 0s - loss: 0.7399 - accuracy: 0.6656 - val_loss: 0.7396 - val_accuracy: 0.6667 - 152ms/epoch - 14ms/step\n",
      "Epoch 18/200\n",
      "11/11 - 0s - loss: 0.7330 - accuracy: 0.6836 - val_loss: 0.7379 - val_accuracy: 0.6652 - 154ms/epoch - 14ms/step\n",
      "Epoch 19/200\n",
      "11/11 - 0s - loss: 0.7181 - accuracy: 0.6892 - val_loss: 0.7259 - val_accuracy: 0.6740 - 173ms/epoch - 16ms/step\n",
      "Epoch 20/200\n",
      "11/11 - 0s - loss: 0.6966 - accuracy: 0.6947 - val_loss: 0.7187 - val_accuracy: 0.6858 - 165ms/epoch - 15ms/step\n",
      "Epoch 21/200\n",
      "11/11 - 0s - loss: 0.6947 - accuracy: 0.6932 - val_loss: 0.7207 - val_accuracy: 0.6696 - 138ms/epoch - 13ms/step\n",
      "Epoch 22/200\n",
      "11/11 - 0s - loss: 0.6919 - accuracy: 0.6925 - val_loss: 0.7123 - val_accuracy: 0.6829 - 149ms/epoch - 14ms/step\n",
      "Epoch 23/200\n",
      "11/11 - 0s - loss: 0.6997 - accuracy: 0.6884 - val_loss: 0.7036 - val_accuracy: 0.6917 - 148ms/epoch - 13ms/step\n",
      "Epoch 24/200\n",
      "11/11 - 0s - loss: 0.6791 - accuracy: 0.6973 - val_loss: 0.7242 - val_accuracy: 0.6903 - 138ms/epoch - 13ms/step\n",
      "Epoch 25/200\n",
      "11/11 - 0s - loss: 0.6747 - accuracy: 0.7061 - val_loss: 0.6996 - val_accuracy: 0.6962 - 142ms/epoch - 13ms/step\n",
      "Epoch 26/200\n",
      "11/11 - 0s - loss: 0.6614 - accuracy: 0.7128 - val_loss: 0.6839 - val_accuracy: 0.7124 - 137ms/epoch - 12ms/step\n",
      "Epoch 27/200\n",
      "11/11 - 0s - loss: 0.6484 - accuracy: 0.7117 - val_loss: 0.6742 - val_accuracy: 0.7257 - 151ms/epoch - 14ms/step\n",
      "Epoch 28/200\n",
      "11/11 - 0s - loss: 0.6410 - accuracy: 0.7220 - val_loss: 0.6714 - val_accuracy: 0.7168 - 164ms/epoch - 15ms/step\n",
      "Epoch 29/200\n",
      "11/11 - 0s - loss: 0.6331 - accuracy: 0.7286 - val_loss: 0.6948 - val_accuracy: 0.7035 - 151ms/epoch - 14ms/step\n",
      "Epoch 30/200\n",
      "11/11 - 0s - loss: 0.6340 - accuracy: 0.7264 - val_loss: 0.6577 - val_accuracy: 0.7242 - 153ms/epoch - 14ms/step\n",
      "Epoch 31/200\n",
      "11/11 - 0s - loss: 0.6243 - accuracy: 0.7452 - val_loss: 0.6460 - val_accuracy: 0.7493 - 144ms/epoch - 13ms/step\n",
      "Epoch 32/200\n",
      "11/11 - 0s - loss: 0.6252 - accuracy: 0.7393 - val_loss: 0.6418 - val_accuracy: 0.7404 - 144ms/epoch - 13ms/step\n",
      "Epoch 33/200\n",
      "11/11 - 0s - loss: 0.6080 - accuracy: 0.7412 - val_loss: 0.6414 - val_accuracy: 0.7375 - 136ms/epoch - 12ms/step\n",
      "Epoch 34/200\n",
      "11/11 - 0s - loss: 0.5846 - accuracy: 0.7592 - val_loss: 0.6372 - val_accuracy: 0.7419 - 160ms/epoch - 15ms/step\n",
      "Epoch 35/200\n",
      "11/11 - 0s - loss: 0.5909 - accuracy: 0.7456 - val_loss: 0.6431 - val_accuracy: 0.7345 - 144ms/epoch - 13ms/step\n",
      "Epoch 36/200\n",
      "11/11 - 0s - loss: 0.5925 - accuracy: 0.7515 - val_loss: 0.6285 - val_accuracy: 0.7566 - 155ms/epoch - 14ms/step\n",
      "Epoch 37/200\n",
      "11/11 - 0s - loss: 0.5713 - accuracy: 0.7581 - val_loss: 0.6261 - val_accuracy: 0.7566 - 182ms/epoch - 17ms/step\n",
      "Epoch 38/200\n",
      "11/11 - 0s - loss: 0.5861 - accuracy: 0.7585 - val_loss: 0.6201 - val_accuracy: 0.7566 - 138ms/epoch - 13ms/step\n",
      "Epoch 39/200\n",
      "11/11 - 0s - loss: 0.5751 - accuracy: 0.7614 - val_loss: 0.6246 - val_accuracy: 0.7522 - 163ms/epoch - 15ms/step\n",
      "Epoch 40/200\n",
      "11/11 - 0s - loss: 0.5680 - accuracy: 0.7670 - val_loss: 0.6216 - val_accuracy: 0.7463 - 165ms/epoch - 15ms/step\n",
      "Epoch 41/200\n",
      "11/11 - 0s - loss: 0.5671 - accuracy: 0.7555 - val_loss: 0.6155 - val_accuracy: 0.7434 - 147ms/epoch - 13ms/step\n",
      "Epoch 42/200\n",
      "11/11 - 0s - loss: 0.5544 - accuracy: 0.7662 - val_loss: 0.6092 - val_accuracy: 0.7581 - 175ms/epoch - 16ms/step\n",
      "Epoch 43/200\n",
      "11/11 - 0s - loss: 0.5687 - accuracy: 0.7659 - val_loss: 0.6324 - val_accuracy: 0.7419 - 149ms/epoch - 14ms/step\n",
      "Epoch 44/200\n",
      "11/11 - 0s - loss: 0.5612 - accuracy: 0.7681 - val_loss: 0.6152 - val_accuracy: 0.7448 - 178ms/epoch - 16ms/step\n",
      "Epoch 45/200\n",
      "11/11 - 0s - loss: 0.5605 - accuracy: 0.7647 - val_loss: 0.6069 - val_accuracy: 0.7566 - 157ms/epoch - 14ms/step\n",
      "Epoch 46/200\n",
      "11/11 - 0s - loss: 0.5551 - accuracy: 0.7725 - val_loss: 0.6098 - val_accuracy: 0.7611 - 162ms/epoch - 15ms/step\n",
      "Epoch 47/200\n",
      "11/11 - 0s - loss: 0.5474 - accuracy: 0.7777 - val_loss: 0.6066 - val_accuracy: 0.7699 - 155ms/epoch - 14ms/step\n",
      "Epoch 48/200\n",
      "11/11 - 0s - loss: 0.5430 - accuracy: 0.7799 - val_loss: 0.6141 - val_accuracy: 0.7581 - 144ms/epoch - 13ms/step\n",
      "Epoch 49/200\n",
      "11/11 - 0s - loss: 0.5280 - accuracy: 0.7821 - val_loss: 0.6025 - val_accuracy: 0.7537 - 165ms/epoch - 15ms/step\n",
      "Epoch 50/200\n",
      "11/11 - 0s - loss: 0.5346 - accuracy: 0.7821 - val_loss: 0.6026 - val_accuracy: 0.7463 - 153ms/epoch - 14ms/step\n",
      "Epoch 51/200\n",
      "11/11 - 0s - loss: 0.5295 - accuracy: 0.7795 - val_loss: 0.5972 - val_accuracy: 0.7537 - 156ms/epoch - 14ms/step\n",
      "Epoch 52/200\n",
      "11/11 - 0s - loss: 0.5199 - accuracy: 0.7832 - val_loss: 0.5986 - val_accuracy: 0.7581 - 157ms/epoch - 14ms/step\n",
      "Epoch 53/200\n",
      "11/11 - 0s - loss: 0.5359 - accuracy: 0.7788 - val_loss: 0.6017 - val_accuracy: 0.7537 - 149ms/epoch - 14ms/step\n",
      "Epoch 54/200\n",
      "11/11 - 0s - loss: 0.5272 - accuracy: 0.7895 - val_loss: 0.6063 - val_accuracy: 0.7552 - 153ms/epoch - 14ms/step\n",
      "Epoch 55/200\n",
      "11/11 - 0s - loss: 0.5366 - accuracy: 0.7832 - val_loss: 0.5991 - val_accuracy: 0.7596 - 156ms/epoch - 14ms/step\n",
      "Epoch 56/200\n",
      "11/11 - 0s - loss: 0.5289 - accuracy: 0.7810 - val_loss: 0.6114 - val_accuracy: 0.7448 - 151ms/epoch - 14ms/step\n",
      "Epoch 57/200\n",
      "11/11 - 0s - loss: 0.5187 - accuracy: 0.7850 - val_loss: 0.6018 - val_accuracy: 0.7566 - 164ms/epoch - 15ms/step\n",
      "Epoch 58/200\n",
      "11/11 - 0s - loss: 0.5115 - accuracy: 0.7843 - val_loss: 0.5924 - val_accuracy: 0.7625 - 173ms/epoch - 16ms/step\n",
      "Epoch 59/200\n",
      "11/11 - 0s - loss: 0.5083 - accuracy: 0.7869 - val_loss: 0.5913 - val_accuracy: 0.7537 - 171ms/epoch - 16ms/step\n",
      "Epoch 60/200\n",
      "11/11 - 0s - loss: 0.5115 - accuracy: 0.7935 - val_loss: 0.5898 - val_accuracy: 0.7581 - 155ms/epoch - 14ms/step\n",
      "Epoch 61/200\n",
      "11/11 - 0s - loss: 0.5255 - accuracy: 0.7924 - val_loss: 0.5875 - val_accuracy: 0.7655 - 164ms/epoch - 15ms/step\n",
      "Epoch 62/200\n",
      "11/11 - 0s - loss: 0.5232 - accuracy: 0.7887 - val_loss: 0.5935 - val_accuracy: 0.7655 - 154ms/epoch - 14ms/step\n",
      "Epoch 63/200\n",
      "11/11 - 0s - loss: 0.4989 - accuracy: 0.8009 - val_loss: 0.5936 - val_accuracy: 0.7522 - 162ms/epoch - 15ms/step\n",
      "Epoch 64/200\n",
      "11/11 - 0s - loss: 0.4947 - accuracy: 0.8024 - val_loss: 0.5870 - val_accuracy: 0.7655 - 160ms/epoch - 15ms/step\n",
      "Epoch 65/200\n",
      "11/11 - 0s - loss: 0.5018 - accuracy: 0.7939 - val_loss: 0.5862 - val_accuracy: 0.7670 - 156ms/epoch - 14ms/step\n",
      "Epoch 66/200\n",
      "11/11 - 0s - loss: 0.4848 - accuracy: 0.8016 - val_loss: 0.5940 - val_accuracy: 0.7566 - 134ms/epoch - 12ms/step\n"
     ]
    },
    {
     "name": "stdout",
     "output_type": "stream",
     "text": [
      "Epoch 67/200\n",
      "11/11 - 0s - loss: 0.4957 - accuracy: 0.7998 - val_loss: 0.6074 - val_accuracy: 0.7552 - 147ms/epoch - 13ms/step\n",
      "Epoch 68/200\n",
      "11/11 - 0s - loss: 0.4907 - accuracy: 0.8119 - val_loss: 0.5962 - val_accuracy: 0.7625 - 166ms/epoch - 15ms/step\n",
      "Epoch 69/200\n",
      "11/11 - 0s - loss: 0.5049 - accuracy: 0.7928 - val_loss: 0.6007 - val_accuracy: 0.7581 - 178ms/epoch - 16ms/step\n",
      "Epoch 70/200\n",
      "11/11 - 0s - loss: 0.4841 - accuracy: 0.8020 - val_loss: 0.5868 - val_accuracy: 0.7640 - 155ms/epoch - 14ms/step\n",
      "Epoch 71/200\n",
      "11/11 - 0s - loss: 0.4804 - accuracy: 0.7998 - val_loss: 0.6013 - val_accuracy: 0.7537 - 144ms/epoch - 13ms/step\n",
      "Epoch 72/200\n",
      "11/11 - 0s - loss: 0.4934 - accuracy: 0.8016 - val_loss: 0.5888 - val_accuracy: 0.7670 - 166ms/epoch - 15ms/step\n",
      "Epoch 73/200\n",
      "11/11 - 0s - loss: 0.5023 - accuracy: 0.7957 - val_loss: 0.5990 - val_accuracy: 0.7640 - 146ms/epoch - 13ms/step\n",
      "Epoch 74/200\n",
      "11/11 - 0s - loss: 0.4881 - accuracy: 0.7957 - val_loss: 0.5931 - val_accuracy: 0.7640 - 158ms/epoch - 14ms/step\n",
      "Epoch 75/200\n",
      "11/11 - 0s - loss: 0.4879 - accuracy: 0.8046 - val_loss: 0.6024 - val_accuracy: 0.7625 - 141ms/epoch - 13ms/step\n",
      "Epoch 76/200\n",
      "11/11 - 0s - loss: 0.4846 - accuracy: 0.8075 - val_loss: 0.5978 - val_accuracy: 0.7596 - 155ms/epoch - 14ms/step\n",
      "Epoch 77/200\n",
      "11/11 - 0s - loss: 0.4797 - accuracy: 0.8079 - val_loss: 0.5984 - val_accuracy: 0.7581 - 147ms/epoch - 13ms/step\n",
      "Epoch 78/200\n",
      "11/11 - 0s - loss: 0.4668 - accuracy: 0.8112 - val_loss: 0.5931 - val_accuracy: 0.7714 - 148ms/epoch - 13ms/step\n",
      "Epoch 79/200\n",
      "11/11 - 0s - loss: 0.4821 - accuracy: 0.8060 - val_loss: 0.5941 - val_accuracy: 0.7670 - 152ms/epoch - 14ms/step\n",
      "Epoch 80/200\n",
      "11/11 - 0s - loss: 0.4769 - accuracy: 0.8038 - val_loss: 0.5935 - val_accuracy: 0.7655 - 158ms/epoch - 14ms/step\n",
      "Epoch 81/200\n",
      "11/11 - 0s - loss: 0.4773 - accuracy: 0.8060 - val_loss: 0.5924 - val_accuracy: 0.7655 - 145ms/epoch - 13ms/step\n",
      "Epoch 82/200\n",
      "11/11 - 0s - loss: 0.4715 - accuracy: 0.8108 - val_loss: 0.5951 - val_accuracy: 0.7625 - 146ms/epoch - 13ms/step\n",
      "Epoch 83/200\n",
      "11/11 - 0s - loss: 0.4698 - accuracy: 0.8049 - val_loss: 0.5908 - val_accuracy: 0.7699 - 147ms/epoch - 13ms/step\n",
      "Epoch 84/200\n",
      "11/11 - 0s - loss: 0.4785 - accuracy: 0.8112 - val_loss: 0.5943 - val_accuracy: 0.7640 - 157ms/epoch - 14ms/step\n",
      "Epoch 85/200\n",
      "11/11 - 0s - loss: 0.4862 - accuracy: 0.8046 - val_loss: 0.6021 - val_accuracy: 0.7699 - 142ms/epoch - 13ms/step\n",
      "Epoch 86/200\n",
      "11/11 - 0s - loss: 0.4739 - accuracy: 0.8060 - val_loss: 0.5904 - val_accuracy: 0.7699 - 157ms/epoch - 14ms/step\n",
      "Epoch 87/200\n",
      "11/11 - 0s - loss: 0.4660 - accuracy: 0.8101 - val_loss: 0.5977 - val_accuracy: 0.7640 - 156ms/epoch - 14ms/step\n",
      "Epoch 88/200\n",
      "11/11 - 0s - loss: 0.4502 - accuracy: 0.8215 - val_loss: 0.6144 - val_accuracy: 0.7611 - 155ms/epoch - 14ms/step\n",
      "Epoch 89/200\n",
      "11/11 - 0s - loss: 0.4777 - accuracy: 0.8086 - val_loss: 0.6002 - val_accuracy: 0.7596 - 151ms/epoch - 14ms/step\n",
      "Epoch 90/200\n",
      "11/11 - 0s - loss: 0.4697 - accuracy: 0.8112 - val_loss: 0.5942 - val_accuracy: 0.7640 - 173ms/epoch - 16ms/step\n",
      "Epoch 91/200\n",
      "11/11 - 0s - loss: 0.4767 - accuracy: 0.8057 - val_loss: 0.6070 - val_accuracy: 0.7640 - 170ms/epoch - 15ms/step\n",
      "Epoch 92/200\n",
      "11/11 - 0s - loss: 0.4597 - accuracy: 0.8145 - val_loss: 0.5960 - val_accuracy: 0.7684 - 154ms/epoch - 14ms/step\n",
      "Epoch 93/200\n",
      "11/11 - 0s - loss: 0.4591 - accuracy: 0.8086 - val_loss: 0.6035 - val_accuracy: 0.7625 - 156ms/epoch - 14ms/step\n",
      "Epoch 94/200\n",
      "11/11 - 0s - loss: 0.4574 - accuracy: 0.8164 - val_loss: 0.6012 - val_accuracy: 0.7670 - 145ms/epoch - 13ms/step\n",
      "Epoch 95/200\n",
      "11/11 - 0s - loss: 0.4489 - accuracy: 0.8178 - val_loss: 0.6190 - val_accuracy: 0.7566 - 140ms/epoch - 13ms/step\n",
      "Epoch 96/200\n",
      "11/11 - 0s - loss: 0.4518 - accuracy: 0.8138 - val_loss: 0.6108 - val_accuracy: 0.7699 - 147ms/epoch - 13ms/step\n",
      "Epoch 97/200\n",
      "11/11 - 0s - loss: 0.4646 - accuracy: 0.8142 - val_loss: 0.6081 - val_accuracy: 0.7684 - 161ms/epoch - 15ms/step\n",
      "Epoch 98/200\n",
      "11/11 - 0s - loss: 0.4470 - accuracy: 0.8212 - val_loss: 0.6116 - val_accuracy: 0.7596 - 143ms/epoch - 13ms/step\n",
      "Epoch 99/200\n",
      "11/11 - 0s - loss: 0.4435 - accuracy: 0.8208 - val_loss: 0.6189 - val_accuracy: 0.7522 - 151ms/epoch - 14ms/step\n",
      "Epoch 100/200\n",
      "11/11 - 0s - loss: 0.4373 - accuracy: 0.8237 - val_loss: 0.6103 - val_accuracy: 0.7596 - 169ms/epoch - 15ms/step\n",
      "Epoch 101/200\n",
      "11/11 - 0s - loss: 0.4517 - accuracy: 0.8112 - val_loss: 0.6043 - val_accuracy: 0.7684 - 170ms/epoch - 15ms/step\n",
      "Epoch 102/200\n",
      "11/11 - 0s - loss: 0.4587 - accuracy: 0.8178 - val_loss: 0.6036 - val_accuracy: 0.7655 - 153ms/epoch - 14ms/step\n",
      "Epoch 103/200\n",
      "11/11 - 0s - loss: 0.4377 - accuracy: 0.8278 - val_loss: 0.6253 - val_accuracy: 0.7552 - 152ms/epoch - 14ms/step\n",
      "Epoch 104/200\n",
      "11/11 - 0s - loss: 0.4603 - accuracy: 0.8094 - val_loss: 0.5993 - val_accuracy: 0.7699 - 167ms/epoch - 15ms/step\n",
      "Epoch 105/200\n",
      "11/11 - 0s - loss: 0.4461 - accuracy: 0.8182 - val_loss: 0.5976 - val_accuracy: 0.7684 - 151ms/epoch - 14ms/step\n",
      "Epoch 106/200\n",
      "11/11 - 0s - loss: 0.4458 - accuracy: 0.8241 - val_loss: 0.6138 - val_accuracy: 0.7655 - 162ms/epoch - 15ms/step\n",
      "Epoch 107/200\n",
      "11/11 - 0s - loss: 0.4483 - accuracy: 0.8234 - val_loss: 0.6041 - val_accuracy: 0.7640 - 153ms/epoch - 14ms/step\n",
      "Epoch 108/200\n",
      "11/11 - 0s - loss: 0.4276 - accuracy: 0.8308 - val_loss: 0.6074 - val_accuracy: 0.7640 - 156ms/epoch - 14ms/step\n",
      "Epoch 109/200\n",
      "11/11 - 0s - loss: 0.4301 - accuracy: 0.8230 - val_loss: 0.6209 - val_accuracy: 0.7566 - 162ms/epoch - 15ms/step\n",
      "Epoch 110/200\n",
      "11/11 - 0s - loss: 0.4416 - accuracy: 0.8311 - val_loss: 0.6035 - val_accuracy: 0.7625 - 160ms/epoch - 15ms/step\n",
      "Epoch 111/200\n",
      "11/11 - 0s - loss: 0.4458 - accuracy: 0.8223 - val_loss: 0.6090 - val_accuracy: 0.7581 - 143ms/epoch - 13ms/step\n",
      "Epoch 112/200\n",
      "11/11 - 0s - loss: 0.4332 - accuracy: 0.8226 - val_loss: 0.6090 - val_accuracy: 0.7611 - 154ms/epoch - 14ms/step\n",
      "Epoch 113/200\n",
      "11/11 - 0s - loss: 0.4390 - accuracy: 0.8212 - val_loss: 0.6062 - val_accuracy: 0.7655 - 161ms/epoch - 15ms/step\n",
      "Epoch 114/200\n",
      "11/11 - 0s - loss: 0.4299 - accuracy: 0.8296 - val_loss: 0.6047 - val_accuracy: 0.7684 - 165ms/epoch - 15ms/step\n",
      "Epoch 115/200\n",
      "11/11 - 0s - loss: 0.4359 - accuracy: 0.8308 - val_loss: 0.6128 - val_accuracy: 0.7596 - 151ms/epoch - 14ms/step\n",
      "Epoch 116/200\n",
      "11/11 - 0s - loss: 0.4348 - accuracy: 0.8212 - val_loss: 0.6196 - val_accuracy: 0.7625 - 168ms/epoch - 15ms/step\n",
      "Epoch 117/200\n",
      "11/11 - 0s - loss: 0.4404 - accuracy: 0.8274 - val_loss: 0.6060 - val_accuracy: 0.7714 - 172ms/epoch - 16ms/step\n",
      "Epoch 118/200\n",
      "11/11 - 0s - loss: 0.4333 - accuracy: 0.8289 - val_loss: 0.6069 - val_accuracy: 0.7729 - 157ms/epoch - 14ms/step\n",
      "Epoch 119/200\n",
      "11/11 - 0s - loss: 0.4359 - accuracy: 0.8300 - val_loss: 0.6113 - val_accuracy: 0.7684 - 153ms/epoch - 14ms/step\n",
      "Epoch 120/200\n",
      "11/11 - 0s - loss: 0.4299 - accuracy: 0.8300 - val_loss: 0.6226 - val_accuracy: 0.7537 - 147ms/epoch - 13ms/step\n",
      "Epoch 121/200\n",
      "11/11 - 0s - loss: 0.4428 - accuracy: 0.8201 - val_loss: 0.6094 - val_accuracy: 0.7566 - 161ms/epoch - 15ms/step\n",
      "Epoch 122/200\n",
      "11/11 - 0s - loss: 0.4153 - accuracy: 0.8396 - val_loss: 0.6060 - val_accuracy: 0.7655 - 153ms/epoch - 14ms/step\n",
      "Epoch 123/200\n",
      "11/11 - 0s - loss: 0.4451 - accuracy: 0.8193 - val_loss: 0.6150 - val_accuracy: 0.7743 - 167ms/epoch - 15ms/step\n",
      "Epoch 124/200\n",
      "11/11 - 0s - loss: 0.4311 - accuracy: 0.8285 - val_loss: 0.6150 - val_accuracy: 0.7729 - 165ms/epoch - 15ms/step\n",
      "Epoch 125/200\n",
      "11/11 - 0s - loss: 0.4409 - accuracy: 0.8285 - val_loss: 0.6179 - val_accuracy: 0.7566 - 150ms/epoch - 14ms/step\n",
      "Epoch 126/200\n",
      "11/11 - 0s - loss: 0.4332 - accuracy: 0.8252 - val_loss: 0.6070 - val_accuracy: 0.7596 - 177ms/epoch - 16ms/step\n",
      "Epoch 127/200\n",
      "11/11 - 0s - loss: 0.4291 - accuracy: 0.8315 - val_loss: 0.6174 - val_accuracy: 0.7552 - 172ms/epoch - 16ms/step\n",
      "Epoch 128/200\n",
      "11/11 - 0s - loss: 0.4270 - accuracy: 0.8285 - val_loss: 0.6011 - val_accuracy: 0.7670 - 180ms/epoch - 16ms/step\n",
      "Epoch 129/200\n",
      "11/11 - 0s - loss: 0.4332 - accuracy: 0.8300 - val_loss: 0.6199 - val_accuracy: 0.7478 - 157ms/epoch - 14ms/step\n",
      "Epoch 130/200\n",
      "11/11 - 0s - loss: 0.4309 - accuracy: 0.8311 - val_loss: 0.6128 - val_accuracy: 0.7640 - 152ms/epoch - 14ms/step\n",
      "Epoch 131/200\n",
      "11/11 - 0s - loss: 0.4207 - accuracy: 0.8249 - val_loss: 0.6199 - val_accuracy: 0.7611 - 153ms/epoch - 14ms/step\n"
     ]
    },
    {
     "name": "stdout",
     "output_type": "stream",
     "text": [
      "Epoch 132/200\n",
      "11/11 - 0s - loss: 0.4148 - accuracy: 0.8337 - val_loss: 0.6113 - val_accuracy: 0.7699 - 144ms/epoch - 13ms/step\n",
      "Epoch 133/200\n",
      "11/11 - 0s - loss: 0.4153 - accuracy: 0.8400 - val_loss: 0.6168 - val_accuracy: 0.7743 - 153ms/epoch - 14ms/step\n",
      "Epoch 134/200\n",
      "11/11 - 0s - loss: 0.4146 - accuracy: 0.8326 - val_loss: 0.6074 - val_accuracy: 0.7714 - 153ms/epoch - 14ms/step\n",
      "Epoch 135/200\n",
      "11/11 - 0s - loss: 0.4146 - accuracy: 0.8396 - val_loss: 0.6096 - val_accuracy: 0.7670 - 156ms/epoch - 14ms/step\n",
      "Epoch 136/200\n",
      "11/11 - 0s - loss: 0.4299 - accuracy: 0.8300 - val_loss: 0.6072 - val_accuracy: 0.7699 - 162ms/epoch - 15ms/step\n",
      "Epoch 137/200\n",
      "11/11 - 0s - loss: 0.4048 - accuracy: 0.8429 - val_loss: 0.6130 - val_accuracy: 0.7714 - 148ms/epoch - 13ms/step\n",
      "Epoch 138/200\n",
      "11/11 - 0s - loss: 0.4120 - accuracy: 0.8367 - val_loss: 0.6388 - val_accuracy: 0.7655 - 174ms/epoch - 16ms/step\n",
      "Epoch 139/200\n",
      "11/11 - 0s - loss: 0.4143 - accuracy: 0.8326 - val_loss: 0.6130 - val_accuracy: 0.7699 - 153ms/epoch - 14ms/step\n",
      "Epoch 140/200\n",
      "11/11 - 0s - loss: 0.4074 - accuracy: 0.8359 - val_loss: 0.6274 - val_accuracy: 0.7552 - 170ms/epoch - 15ms/step\n",
      "Epoch 141/200\n",
      "11/11 - 0s - loss: 0.4062 - accuracy: 0.8367 - val_loss: 0.6339 - val_accuracy: 0.7581 - 153ms/epoch - 14ms/step\n",
      "Epoch 142/200\n",
      "11/11 - 0s - loss: 0.4093 - accuracy: 0.8337 - val_loss: 0.6249 - val_accuracy: 0.7640 - 149ms/epoch - 14ms/step\n",
      "Epoch 143/200\n",
      "11/11 - 0s - loss: 0.4150 - accuracy: 0.8392 - val_loss: 0.6211 - val_accuracy: 0.7699 - 151ms/epoch - 14ms/step\n",
      "Epoch 144/200\n",
      "11/11 - 0s - loss: 0.4027 - accuracy: 0.8433 - val_loss: 0.6213 - val_accuracy: 0.7640 - 192ms/epoch - 17ms/step\n",
      "Epoch 145/200\n",
      "11/11 - 0s - loss: 0.4215 - accuracy: 0.8400 - val_loss: 0.6273 - val_accuracy: 0.7581 - 157ms/epoch - 14ms/step\n",
      "Epoch 146/200\n",
      "11/11 - 0s - loss: 0.4078 - accuracy: 0.8392 - val_loss: 0.6381 - val_accuracy: 0.7463 - 166ms/epoch - 15ms/step\n",
      "Epoch 147/200\n",
      "11/11 - 0s - loss: 0.4007 - accuracy: 0.8418 - val_loss: 0.6330 - val_accuracy: 0.7640 - 148ms/epoch - 13ms/step\n",
      "Epoch 148/200\n",
      "11/11 - 0s - loss: 0.4008 - accuracy: 0.8451 - val_loss: 0.6166 - val_accuracy: 0.7611 - 157ms/epoch - 14ms/step\n",
      "Epoch 149/200\n",
      "11/11 - 0s - loss: 0.3970 - accuracy: 0.8451 - val_loss: 0.6404 - val_accuracy: 0.7640 - 144ms/epoch - 13ms/step\n",
      "Epoch 150/200\n",
      "11/11 - 0s - loss: 0.4188 - accuracy: 0.8333 - val_loss: 0.6206 - val_accuracy: 0.7684 - 165ms/epoch - 15ms/step\n",
      "Epoch 151/200\n",
      "11/11 - 0s - loss: 0.4207 - accuracy: 0.8296 - val_loss: 0.6123 - val_accuracy: 0.7640 - 175ms/epoch - 16ms/step\n",
      "Epoch 152/200\n",
      "11/11 - 0s - loss: 0.4013 - accuracy: 0.8422 - val_loss: 0.6237 - val_accuracy: 0.7625 - 161ms/epoch - 15ms/step\n",
      "Epoch 153/200\n",
      "11/11 - 0s - loss: 0.3960 - accuracy: 0.8407 - val_loss: 0.6260 - val_accuracy: 0.7537 - 150ms/epoch - 14ms/step\n",
      "Epoch 154/200\n",
      "11/11 - 0s - loss: 0.4078 - accuracy: 0.8363 - val_loss: 0.6121 - val_accuracy: 0.7655 - 153ms/epoch - 14ms/step\n",
      "Epoch 155/200\n",
      "11/11 - 0s - loss: 0.4098 - accuracy: 0.8355 - val_loss: 0.6223 - val_accuracy: 0.7596 - 162ms/epoch - 15ms/step\n",
      "Epoch 156/200\n",
      "11/11 - 0s - loss: 0.4117 - accuracy: 0.8363 - val_loss: 0.6158 - val_accuracy: 0.7625 - 147ms/epoch - 13ms/step\n",
      "Epoch 157/200\n",
      "11/11 - 0s - loss: 0.4027 - accuracy: 0.8477 - val_loss: 0.6314 - val_accuracy: 0.7566 - 149ms/epoch - 14ms/step\n",
      "Epoch 158/200\n",
      "11/11 - 0s - loss: 0.3936 - accuracy: 0.8444 - val_loss: 0.6113 - val_accuracy: 0.7625 - 171ms/epoch - 16ms/step\n",
      "Epoch 159/200\n",
      "11/11 - 0s - loss: 0.4057 - accuracy: 0.8411 - val_loss: 0.6253 - val_accuracy: 0.7625 - 150ms/epoch - 14ms/step\n",
      "Epoch 160/200\n",
      "11/11 - 0s - loss: 0.4006 - accuracy: 0.8418 - val_loss: 0.6165 - val_accuracy: 0.7743 - 162ms/epoch - 15ms/step\n",
      "Epoch 161/200\n",
      "11/11 - 0s - loss: 0.3835 - accuracy: 0.8477 - val_loss: 0.6184 - val_accuracy: 0.7817 - 155ms/epoch - 14ms/step\n",
      "Epoch 162/200\n",
      "11/11 - 0s - loss: 0.3994 - accuracy: 0.8414 - val_loss: 0.6303 - val_accuracy: 0.7537 - 156ms/epoch - 14ms/step\n",
      "Epoch 163/200\n",
      "11/11 - 0s - loss: 0.3998 - accuracy: 0.8481 - val_loss: 0.6186 - val_accuracy: 0.7670 - 142ms/epoch - 13ms/step\n",
      "Epoch 164/200\n",
      "11/11 - 0s - loss: 0.4036 - accuracy: 0.8392 - val_loss: 0.6388 - val_accuracy: 0.7566 - 155ms/epoch - 14ms/step\n",
      "Epoch 165/200\n",
      "11/11 - 0s - loss: 0.3918 - accuracy: 0.8481 - val_loss: 0.6275 - val_accuracy: 0.7640 - 154ms/epoch - 14ms/step\n",
      "Epoch 166/200\n",
      "11/11 - 0s - loss: 0.3851 - accuracy: 0.8518 - val_loss: 0.6298 - val_accuracy: 0.7581 - 147ms/epoch - 13ms/step\n",
      "Epoch 167/200\n",
      "11/11 - 0s - loss: 0.3888 - accuracy: 0.8392 - val_loss: 0.6494 - val_accuracy: 0.7434 - 157ms/epoch - 14ms/step\n",
      "Epoch 168/200\n",
      "11/11 - 0s - loss: 0.4035 - accuracy: 0.8367 - val_loss: 0.6269 - val_accuracy: 0.7640 - 179ms/epoch - 16ms/step\n",
      "Epoch 169/200\n",
      "11/11 - 0s - loss: 0.3865 - accuracy: 0.8488 - val_loss: 0.6332 - val_accuracy: 0.7640 - 170ms/epoch - 15ms/step\n",
      "Epoch 170/200\n",
      "11/11 - 0s - loss: 0.3791 - accuracy: 0.8510 - val_loss: 0.6280 - val_accuracy: 0.7699 - 150ms/epoch - 14ms/step\n",
      "Epoch 171/200\n",
      "11/11 - 0s - loss: 0.3907 - accuracy: 0.8455 - val_loss: 0.6181 - val_accuracy: 0.7729 - 150ms/epoch - 14ms/step\n",
      "Epoch 172/200\n",
      "11/11 - 0s - loss: 0.3945 - accuracy: 0.8473 - val_loss: 0.6380 - val_accuracy: 0.7670 - 162ms/epoch - 15ms/step\n",
      "Epoch 173/200\n",
      "11/11 - 0s - loss: 0.3832 - accuracy: 0.8529 - val_loss: 0.6205 - val_accuracy: 0.7758 - 146ms/epoch - 13ms/step\n",
      "Epoch 174/200\n",
      "11/11 - 0s - loss: 0.4091 - accuracy: 0.8422 - val_loss: 0.6319 - val_accuracy: 0.7552 - 154ms/epoch - 14ms/step\n",
      "Epoch 175/200\n",
      "11/11 - 0s - loss: 0.3976 - accuracy: 0.8381 - val_loss: 0.6414 - val_accuracy: 0.7552 - 152ms/epoch - 14ms/step\n",
      "Epoch 176/200\n",
      "11/11 - 0s - loss: 0.3868 - accuracy: 0.8414 - val_loss: 0.6357 - val_accuracy: 0.7729 - 172ms/epoch - 16ms/step\n",
      "Epoch 177/200\n",
      "11/11 - 0s - loss: 0.3988 - accuracy: 0.8407 - val_loss: 0.6234 - val_accuracy: 0.7758 - 142ms/epoch - 13ms/step\n",
      "Epoch 178/200\n",
      "11/11 - 0s - loss: 0.3826 - accuracy: 0.8470 - val_loss: 0.6296 - val_accuracy: 0.7596 - 139ms/epoch - 13ms/step\n",
      "Epoch 179/200\n",
      "11/11 - 0s - loss: 0.3820 - accuracy: 0.8518 - val_loss: 0.6327 - val_accuracy: 0.7743 - 132ms/epoch - 12ms/step\n",
      "Epoch 180/200\n",
      "11/11 - 0s - loss: 0.3771 - accuracy: 0.8466 - val_loss: 0.6320 - val_accuracy: 0.7729 - 136ms/epoch - 12ms/step\n",
      "Epoch 181/200\n",
      "11/11 - 0s - loss: 0.4011 - accuracy: 0.8392 - val_loss: 0.6308 - val_accuracy: 0.7684 - 149ms/epoch - 14ms/step\n",
      "Epoch 182/200\n",
      "11/11 - 0s - loss: 0.3914 - accuracy: 0.8477 - val_loss: 0.6164 - val_accuracy: 0.7773 - 157ms/epoch - 14ms/step\n",
      "Epoch 183/200\n",
      "11/11 - 0s - loss: 0.3984 - accuracy: 0.8470 - val_loss: 0.6501 - val_accuracy: 0.7537 - 155ms/epoch - 14ms/step\n",
      "Epoch 184/200\n",
      "11/11 - 0s - loss: 0.3987 - accuracy: 0.8411 - val_loss: 0.6346 - val_accuracy: 0.7537 - 159ms/epoch - 14ms/step\n",
      "Epoch 185/200\n",
      "11/11 - 0s - loss: 0.3889 - accuracy: 0.8403 - val_loss: 0.6207 - val_accuracy: 0.7832 - 155ms/epoch - 14ms/step\n",
      "Epoch 186/200\n",
      "11/11 - 0s - loss: 0.3968 - accuracy: 0.8414 - val_loss: 0.6250 - val_accuracy: 0.7699 - 148ms/epoch - 13ms/step\n",
      "Epoch 187/200\n",
      "11/11 - 0s - loss: 0.3760 - accuracy: 0.8518 - val_loss: 0.6228 - val_accuracy: 0.7625 - 146ms/epoch - 13ms/step\n",
      "Epoch 188/200\n",
      "11/11 - 0s - loss: 0.3932 - accuracy: 0.8414 - val_loss: 0.6296 - val_accuracy: 0.7478 - 158ms/epoch - 14ms/step\n",
      "Epoch 189/200\n",
      "11/11 - 0s - loss: 0.3784 - accuracy: 0.8462 - val_loss: 0.6209 - val_accuracy: 0.7773 - 163ms/epoch - 15ms/step\n",
      "Epoch 190/200\n",
      "11/11 - 0s - loss: 0.3761 - accuracy: 0.8521 - val_loss: 0.6334 - val_accuracy: 0.7655 - 177ms/epoch - 16ms/step\n",
      "Epoch 191/200\n",
      "11/11 - 0s - loss: 0.3752 - accuracy: 0.8532 - val_loss: 0.6352 - val_accuracy: 0.7714 - 154ms/epoch - 14ms/step\n",
      "Epoch 192/200\n",
      "11/11 - 0s - loss: 0.3781 - accuracy: 0.8525 - val_loss: 0.6267 - val_accuracy: 0.7758 - 143ms/epoch - 13ms/step\n",
      "Epoch 193/200\n",
      "11/11 - 0s - loss: 0.3767 - accuracy: 0.8507 - val_loss: 0.6436 - val_accuracy: 0.7699 - 153ms/epoch - 14ms/step\n",
      "Epoch 194/200\n",
      "11/11 - 0s - loss: 0.3877 - accuracy: 0.8381 - val_loss: 0.6206 - val_accuracy: 0.7788 - 152ms/epoch - 14ms/step\n",
      "Epoch 195/200\n",
      "11/11 - 0s - loss: 0.3771 - accuracy: 0.8518 - val_loss: 0.6254 - val_accuracy: 0.7817 - 149ms/epoch - 14ms/step\n",
      "Epoch 196/200\n",
      "11/11 - 0s - loss: 0.3698 - accuracy: 0.8514 - val_loss: 0.6417 - val_accuracy: 0.7448 - 132ms/epoch - 12ms/step\n"
     ]
    },
    {
     "name": "stdout",
     "output_type": "stream",
     "text": [
      "Epoch 197/200\n",
      "11/11 - 0s - loss: 0.3777 - accuracy: 0.8555 - val_loss: 0.6308 - val_accuracy: 0.7611 - 161ms/epoch - 15ms/step\n",
      "Epoch 198/200\n",
      "11/11 - 0s - loss: 0.3656 - accuracy: 0.8555 - val_loss: 0.6290 - val_accuracy: 0.7788 - 156ms/epoch - 14ms/step\n",
      "Epoch 199/200\n",
      "11/11 - 0s - loss: 0.3845 - accuracy: 0.8437 - val_loss: 0.6261 - val_accuracy: 0.7773 - 148ms/epoch - 13ms/step\n",
      "Epoch 200/200\n",
      "11/11 - 0s - loss: 0.3757 - accuracy: 0.8507 - val_loss: 0.6287 - val_accuracy: 0.7684 - 156ms/epoch - 14ms/step\n"
     ]
    }
   ],
   "source": [
    "hist1 = model1.fit(word_seq_train,\n",
    "                 train_labels,\n",
    "                 batch_size = batch_size,\n",
    "                 epochs = num_epochs,\n",
    "                 validation_split=0.2,\n",
    "                 shuffle=True,\n",
    "                 verbose=2)"
   ]
  },
  {
   "cell_type": "code",
   "execution_count": 85,
   "id": "1f215027",
   "metadata": {},
   "outputs": [
    {
     "data": {
      "image/png": "[encoded data removed]",
      "text/plain": [
       "<Figure size 864x288 with 2 Axes>"
      ]
     },
     "metadata": {
      "needs_background": "light"
     },
     "output_type": "display_data"
    }
   ],
   "source": [
    "fig, (ax1, ax2) = plt.subplots(1, 2, figsize=(12, 4))\n",
    "\n",
    "ax1.plot(hist1.history['loss'], lw=2.0, color='b', alpha=0.65, label='train')\n",
    "ax1.plot(hist1.history['val_loss'], lw=2.0, color='r', alpha=0.65, label='val')\n",
    "ax1.set_title('Loss Visualization')\n",
    "ax1.set_xlabel('Epochs')\n",
    "ax1.set_ylabel('Cross-Entropy Loss')\n",
    "ax1.legend(loc='upper right')\n",
    "ax2.plot(hist1.history['accuracy'], lw=2.0, color='b', alpha=0.65, label='train')\n",
    "ax2.plot(hist1.history['val_accuracy'], lw=2.0, color='r', alpha=0.65, label='val')\n",
    "ax2.set_title('Accuracy Visualization')\n",
    "ax2.set_xlabel('Epochs')\n",
    "ax2.set_ylabel('Accuracy')\n",
    "ax2.legend(loc='lower right')\n",
    "\n",
    "ax1.grid(False)\n",
    "ax2.grid(False)\n",
    "\n",
    "ax2.set_ylim(-0.1, 1.1)\n",
    "plt.show()"
   ]
  },
  {
   "cell_type": "code",
   "execution_count": 86,
   "id": "06daa470",
   "metadata": {},
   "outputs": [
    {
     "data": {
      "text/html": [
       "<div>\n",
       "<style scoped>\n",
       "    .dataframe tbody tr th:only-of-type {\n",
       "        vertical-align: middle;\n",
       "    }\n",
       "\n",
       "    .dataframe tbody tr th {\n",
       "        vertical-align: top;\n",
       "    }\n",
       "\n",
       "    .dataframe thead th {\n",
       "        text-align: right;\n",
       "    }\n",
       "</style>\n",
       "<table border=\"1\" class=\"dataframe\">\n",
       "  <thead>\n",
       "    <tr style=\"text-align: right;\">\n",
       "      <th></th>\n",
       "      <th>text</th>\n",
       "      <th>label</th>\n",
       "    </tr>\n",
       "  </thead>\n",
       "  <tbody>\n",
       "    <tr>\n",
       "      <th>3203</th>\n",
       "      <td>company says measures longer needed</td>\n",
       "      <td>0</td>\n",
       "    </tr>\n",
       "    <tr>\n",
       "      <th>1957</th>\n",
       "      <td>see new post inspiring challenge</td>\n",
       "      <td>0</td>\n",
       "    </tr>\n",
       "    <tr>\n",
       "      <th>1044</th>\n",
       "      <td>lee man combined annual production capacity cl...</td>\n",
       "      <td>0</td>\n",
       "    </tr>\n",
       "    <tr>\n",
       "      <th>2732</th>\n",
       "      <td>coker crane supplied tesoro corporation golden...</td>\n",
       "      <td>0</td>\n",
       "    </tr>\n",
       "    <tr>\n",
       "      <th>1538</th>\n",
       "      <td>finland corresponding service alma media etuov...</td>\n",
       "      <td>0</td>\n",
       "    </tr>\n",
       "    <tr>\n",
       "      <th>...</th>\n",
       "      <td>...</td>\n",
       "      <td>...</td>\n",
       "    </tr>\n",
       "    <tr>\n",
       "      <th>1730</th>\n",
       "      <td>company make marketing sales investments initi...</td>\n",
       "      <td>1</td>\n",
       "    </tr>\n",
       "    <tr>\n",
       "      <th>4448</th>\n",
       "      <td>return capital employed roce negative compared</td>\n",
       "      <td>2</td>\n",
       "    </tr>\n",
       "    <tr>\n",
       "      <th>2222</th>\n",
       "      <td>earnings comparative period included capital g...</td>\n",
       "      <td>0</td>\n",
       "    </tr>\n",
       "    <tr>\n",
       "      <th>3712</th>\n",
       "      <td>outotec delivery covers engineering supply con...</td>\n",
       "      <td>0</td>\n",
       "    </tr>\n",
       "    <tr>\n",
       "      <th>4295</th>\n",
       "      <td>biggest challenge make piece look raw hansen said</td>\n",
       "      <td>0</td>\n",
       "    </tr>\n",
       "  </tbody>\n",
       "</table>\n",
       "<p>1453 rows × 2 columns</p>\n",
       "</div>"
      ],
      "text/plain": [
       "                                                   text  label\n",
       "3203                company says measures longer needed      0\n",
       "1957                   see new post inspiring challenge      0\n",
       "1044  lee man combined annual production capacity cl...      0\n",
       "2732  coker crane supplied tesoro corporation golden...      0\n",
       "1538  finland corresponding service alma media etuov...      0\n",
       "...                                                 ...    ...\n",
       "1730  company make marketing sales investments initi...      1\n",
       "4448     return capital employed roce negative compared      2\n",
       "2222  earnings comparative period included capital g...      0\n",
       "3712  outotec delivery covers engineering supply con...      0\n",
       "4295  biggest challenge make piece look raw hansen said      0\n",
       "\n",
       "[1453 rows x 2 columns]"
      ]
     },
     "execution_count": 86,
     "metadata": {},
     "output_type": "execute_result"
    }
   ],
   "source": [
    "test"
   ]
  },
  {
   "cell_type": "code",
   "execution_count": 90,
   "id": "5e8e013e",
   "metadata": {},
   "outputs": [],
   "source": [
    "raw_docs_test  = test['text']\n",
    "\n",
    "word_seq_test  = tokenizer.texts_to_sequences(raw_docs_test)\n",
    "\n",
    "word_seq_test  = sequence.pad_sequences(word_seq_test, maxlen = 42)"
   ]
  },
  {
   "cell_type": "code",
   "execution_count": 91,
   "id": "7cf1b630",
   "metadata": {},
   "outputs": [],
   "source": [
    "y_test = test['label']"
   ]
  },
  {
   "cell_type": "code",
   "execution_count": 92,
   "id": "bd897c69",
   "metadata": {},
   "outputs": [],
   "source": [
    "y_pred = model1.predict(word_seq_test).round()"
   ]
  },
  {
   "cell_type": "code",
   "execution_count": 93,
   "id": "d8f6cc65",
   "metadata": {},
   "outputs": [],
   "source": [
    "pred_df = pd.DataFrame(data=y_pred)"
   ]
  },
  {
   "cell_type": "code",
   "execution_count": 94,
   "id": "372948ad",
   "metadata": {},
   "outputs": [],
   "source": [
    "y_pred = pred_df.values.argmax(1)"
   ]
  },
  {
   "cell_type": "code",
   "execution_count": 95,
   "id": "13d52cdb",
   "metadata": {},
   "outputs": [],
   "source": [
    "from keras.models import load_model\n",
    "from keras.preprocessing import sequence\n",
    "from tensorflow.keras.utils import to_categorical\n",
    "from sklearn.metrics import accuracy_score, confusion_matrix, classification_report\n",
    "\n",
    "import pickle\n",
    "import pandas as pd\n",
    "import numpy as np\n",
    "\n",
    "%matplotlib inline"
   ]
  },
  {
   "cell_type": "code",
   "execution_count": 96,
   "id": "4208b974",
   "metadata": {},
   "outputs": [
    {
     "name": "stdout",
     "output_type": "stream",
     "text": [
      "[[748  73  24]\n",
      " [151 272  10]\n",
      " [ 48  23 104]]\n",
      "Accuracy 0.7735719201651755\n"
     ]
    }
   ],
   "source": [
    "cm = confusion_matrix(y_test, y_pred)\n",
    "\n",
    "print(cm)\n",
    "print('Accuracy ' +str(accuracy_score(y_test, y_pred)))"
   ]
  },
  {
   "cell_type": "code",
   "execution_count": 97,
   "id": "c1ea15d3",
   "metadata": {},
   "outputs": [
    {
     "name": "stdout",
     "output_type": "stream",
     "text": [
      "              precision    recall  f1-score   support\n",
      "\n",
      "           0       0.79      0.89      0.83       845\n",
      "           1       0.74      0.63      0.68       433\n",
      "           2       0.75      0.59      0.66       175\n",
      "\n",
      "    accuracy                           0.77      1453\n",
      "   macro avg       0.76      0.70      0.73      1453\n",
      "weighted avg       0.77      0.77      0.77      1453\n",
      "\n"
     ]
    }
   ],
   "source": [
    "print(classification_report(y_test, y_pred))"
   ]
  },
  {
   "cell_type": "code",
   "execution_count": 98,
   "id": "189d2f4b",
   "metadata": {},
   "outputs": [],
   "source": [
    "df = pd.read_csv('data_for_test_the_model.csv')"
   ]
  },
  {
   "cell_type": "code",
   "execution_count": 99,
   "id": "21fe7940",
   "metadata": {},
   "outputs": [
    {
     "data": {
      "text/html": [
       "<div>\n",
       "<style scoped>\n",
       "    .dataframe tbody tr th:only-of-type {\n",
       "        vertical-align: middle;\n",
       "    }\n",
       "\n",
       "    .dataframe tbody tr th {\n",
       "        vertical-align: top;\n",
       "    }\n",
       "\n",
       "    .dataframe thead th {\n",
       "        text-align: right;\n",
       "    }\n",
       "</style>\n",
       "<table border=\"1\" class=\"dataframe\">\n",
       "  <thead>\n",
       "    <tr style=\"text-align: right;\">\n",
       "      <th></th>\n",
       "      <th>number</th>\n",
       "      <th>news_headline</th>\n",
       "    </tr>\n",
       "  </thead>\n",
       "  <tbody>\n",
       "    <tr>\n",
       "      <th>0</th>\n",
       "      <td>1</td>\n",
       "      <td>The 2015 target for net sales has been set at ...</td>\n",
       "    </tr>\n",
       "    <tr>\n",
       "      <th>1</th>\n",
       "      <td>2</td>\n",
       "      <td>It holds 38 percent of Outokumpu 's shares and...</td>\n",
       "    </tr>\n",
       "    <tr>\n",
       "      <th>2</th>\n",
       "      <td>3</td>\n",
       "      <td>As a result of these transactions , the aggreg...</td>\n",
       "    </tr>\n",
       "  </tbody>\n",
       "</table>\n",
       "</div>"
      ],
      "text/plain": [
       "   number                                      news_headline\n",
       "0       1  The 2015 target for net sales has been set at ...\n",
       "1       2  It holds 38 percent of Outokumpu 's shares and...\n",
       "2       3  As a result of these transactions , the aggreg..."
      ]
     },
     "execution_count": 99,
     "metadata": {},
     "output_type": "execute_result"
    }
   ],
   "source": [
    "df"
   ]
  },
  {
   "cell_type": "code",
   "execution_count": 100,
   "id": "7af0e083",
   "metadata": {},
   "outputs": [],
   "source": [
    "raw_docs_test  = df['news_headline']\n",
    "\n",
    "word_seq_test  = tokenizer.texts_to_sequences(raw_docs_test)\n",
    "\n",
    "word_seq_test  = sequence.pad_sequences(word_seq_test, maxlen = 42)"
   ]
  },
  {
   "cell_type": "code",
   "execution_count": 101,
   "id": "122ad4d3",
   "metadata": {},
   "outputs": [],
   "source": [
    "y_pred = model1.predict(word_seq_test).round()"
   ]
  },
  {
   "cell_type": "code",
   "execution_count": 102,
   "id": "50640d54",
   "metadata": {},
   "outputs": [
    {
     "data": {
      "text/plain": [
       "array([[1., 0., 0.],\n",
       "       [1., 0., 0.],\n",
       "       [0., 0., 1.]], dtype=float32)"
      ]
     },
     "execution_count": 102,
     "metadata": {},
     "output_type": "execute_result"
    }
   ],
   "source": [
    "y_pred"
   ]
  },
  {
   "cell_type": "markdown",
   "id": "d0ba794f",
   "metadata": {},
   "source": [
    "Jawaban prediksi = neutral , neutral, Negative"
   ]
  },
  {
   "cell_type": "code",
   "execution_count": null,
   "id": "df7d5288",
   "metadata": {},
   "outputs": [],
   "source": []
  }
 ],
 "metadata": {
  "kernelspec": {
   "display_name": "Python 3 (ipykernel)",
   "language": "python",
   "name": "python3"
  },
  "language_info": {
   "codemirror_mode": {
    "name": "ipython",
    "version": 3
   },
   "file_extension": ".py",
   "mimetype": "text/x-python",
   "name": "python",
   "nbconvert_exporter": "python",
   "pygments_lexer": "ipython3",
   "version": "3.8.7"
  }
 },
 "nbformat": 4,
 "nbformat_minor": 5
}
