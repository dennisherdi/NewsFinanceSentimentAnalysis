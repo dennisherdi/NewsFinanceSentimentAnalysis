{
 "cells": [
  {
   "cell_type": "markdown",
   "id": "130735f5",
   "metadata": {},
   "source": [
    "# Imports"
   ]
  },
  {
   "cell_type": "code",
   "execution_count": 1,
   "id": "fc722a34",
   "metadata": {},
   "outputs": [],
   "source": [
    "import pandas as pd\n",
    "import matplotlib.pyplot as plt\n",
    "%matplotlib inline\n",
    "import re\n",
    "import nltk\n",
    "from nltk.tokenize import TweetTokenizer\n",
    "from nltk import FreqDist\n",
    "import string\n"
   ]
  },
  {
   "cell_type": "markdown",
   "id": "958daa8f",
   "metadata": {},
   "source": [
    "# Read Data File"
   ]
  },
  {
   "cell_type": "code",
   "execution_count": 2,
   "id": "0bf22a61",
   "metadata": {},
   "outputs": [],
   "source": [
    "df = pd.read_csv('financial_news_data.csv')"
   ]
  },
  {
   "cell_type": "code",
   "execution_count": 3,
   "id": "97f536fe",
   "metadata": {},
   "outputs": [
    {
     "data": {
      "text/html": [
       "<div>\n",
       "<style scoped>\n",
       "    .dataframe tbody tr th:only-of-type {\n",
       "        vertical-align: middle;\n",
       "    }\n",
       "\n",
       "    .dataframe tbody tr th {\n",
       "        vertical-align: top;\n",
       "    }\n",
       "\n",
       "    .dataframe thead th {\n",
       "        text-align: right;\n",
       "    }\n",
       "</style>\n",
       "<table border=\"1\" class=\"dataframe\">\n",
       "  <thead>\n",
       "    <tr style=\"text-align: right;\">\n",
       "      <th></th>\n",
       "      <th>sentiment</th>\n",
       "      <th>news_headline</th>\n",
       "    </tr>\n",
       "  </thead>\n",
       "  <tbody>\n",
       "    <tr>\n",
       "      <th>0</th>\n",
       "      <td>neutral</td>\n",
       "      <td>According to Gran , the company has no plans t...</td>\n",
       "    </tr>\n",
       "    <tr>\n",
       "      <th>1</th>\n",
       "      <td>neutral</td>\n",
       "      <td>Technopolis plans to develop in stages an area...</td>\n",
       "    </tr>\n",
       "    <tr>\n",
       "      <th>2</th>\n",
       "      <td>negative</td>\n",
       "      <td>The international electronic industry company ...</td>\n",
       "    </tr>\n",
       "    <tr>\n",
       "      <th>3</th>\n",
       "      <td>positive</td>\n",
       "      <td>With the new production plant the company woul...</td>\n",
       "    </tr>\n",
       "    <tr>\n",
       "      <th>4</th>\n",
       "      <td>positive</td>\n",
       "      <td>According to the company 's updated strategy f...</td>\n",
       "    </tr>\n",
       "  </tbody>\n",
       "</table>\n",
       "</div>"
      ],
      "text/plain": [
       "  sentiment                                      news_headline\n",
       "0   neutral  According to Gran , the company has no plans t...\n",
       "1   neutral  Technopolis plans to develop in stages an area...\n",
       "2  negative  The international electronic industry company ...\n",
       "3  positive  With the new production plant the company woul...\n",
       "4  positive  According to the company 's updated strategy f..."
      ]
     },
     "execution_count": 3,
     "metadata": {},
     "output_type": "execute_result"
    }
   ],
   "source": [
    "df.head()"
   ]
  },
  {
   "cell_type": "code",
   "execution_count": 4,
   "id": "ebc0beb5",
   "metadata": {},
   "outputs": [
    {
     "data": {
      "text/plain": [
       "neutral     2878\n",
       "positive    1362\n",
       "negative     603\n",
       "Name: sentiment, dtype: int64"
      ]
     },
     "execution_count": 4,
     "metadata": {},
     "output_type": "execute_result"
    }
   ],
   "source": [
    "df.sentiment.value_counts()"
   ]
  },
  {
   "cell_type": "markdown",
   "id": "a8cfaf54",
   "metadata": {},
   "source": [
    "Ada 3 kelas berbeda yang berkaitan dengan sentimen."
   ]
  },
  {
   "cell_type": "code",
   "execution_count": 5,
   "id": "7fb2dcc1",
   "metadata": {},
   "outputs": [
    {
     "name": "stdout",
     "output_type": "stream",
     "text": [
      "<class 'pandas.core.frame.DataFrame'>\n",
      "RangeIndex: 4843 entries, 0 to 4842\n",
      "Data columns (total 2 columns):\n",
      " #   Column         Non-Null Count  Dtype \n",
      "---  ------         --------------  ----- \n",
      " 0   sentiment      4843 non-null   object\n",
      " 1   news_headline  4843 non-null   object\n",
      "dtypes: object(2)\n",
      "memory usage: 75.8+ KB\n"
     ]
    }
   ],
   "source": [
    "df.info()"
   ]
  },
  {
   "cell_type": "code",
   "execution_count": 6,
   "id": "55a9c727",
   "metadata": {},
   "outputs": [
    {
     "name": "stdout",
     "output_type": "stream",
     "text": [
      "Number of missing values per feature\n"
     ]
    },
    {
     "data": {
      "text/plain": [
       "sentiment        0\n",
       "news_headline    0\n",
       "dtype: int64"
      ]
     },
     "execution_count": 6,
     "metadata": {},
     "output_type": "execute_result"
    }
   ],
   "source": [
    "print('Number of missing values per feature')\n",
    "df.isna().sum()"
   ]
  },
  {
   "cell_type": "code",
   "execution_count": 7,
   "id": "50a4f4ff",
   "metadata": {},
   "outputs": [
    {
     "name": "stdout",
     "output_type": "stream",
     "text": [
      "Is there any duplicated rows? \n",
      "True\n",
      "\n",
      "How many? \n",
      "6 rows\n"
     ]
    }
   ],
   "source": [
    "print(f\"Is there any duplicated rows? \\n{df.duplicated().any()}\")\n",
    "print(f\"\\nHow many? \\n{df.duplicated().sum()} rows\")"
   ]
  },
  {
   "cell_type": "code",
   "execution_count": 8,
   "id": "fdec8ebf",
   "metadata": {},
   "outputs": [
    {
     "data": {
      "text/html": [
       "<div>\n",
       "<style scoped>\n",
       "    .dataframe tbody tr th:only-of-type {\n",
       "        vertical-align: middle;\n",
       "    }\n",
       "\n",
       "    .dataframe tbody tr th {\n",
       "        vertical-align: top;\n",
       "    }\n",
       "\n",
       "    .dataframe thead th {\n",
       "        text-align: right;\n",
       "    }\n",
       "</style>\n",
       "<table border=\"1\" class=\"dataframe\">\n",
       "  <thead>\n",
       "    <tr style=\"text-align: right;\">\n",
       "      <th></th>\n",
       "      <th>sentiment</th>\n",
       "      <th>news_headline</th>\n",
       "    </tr>\n",
       "  </thead>\n",
       "  <tbody>\n",
       "    <tr>\n",
       "      <th>0</th>\n",
       "      <td>neutral</td>\n",
       "      <td>According to Gran , the company has no plans t...</td>\n",
       "    </tr>\n",
       "    <tr>\n",
       "      <th>1</th>\n",
       "      <td>neutral</td>\n",
       "      <td>Technopolis plans to develop in stages an area...</td>\n",
       "    </tr>\n",
       "    <tr>\n",
       "      <th>2</th>\n",
       "      <td>negative</td>\n",
       "      <td>The international electronic industry company ...</td>\n",
       "    </tr>\n",
       "    <tr>\n",
       "      <th>3</th>\n",
       "      <td>positive</td>\n",
       "      <td>With the new production plant the company woul...</td>\n",
       "    </tr>\n",
       "    <tr>\n",
       "      <th>4</th>\n",
       "      <td>positive</td>\n",
       "      <td>According to the company 's updated strategy f...</td>\n",
       "    </tr>\n",
       "    <tr>\n",
       "      <th>...</th>\n",
       "      <td>...</td>\n",
       "      <td>...</td>\n",
       "    </tr>\n",
       "    <tr>\n",
       "      <th>4838</th>\n",
       "      <td>negative</td>\n",
       "      <td>LONDON MarketWatch -- Share prices ended lower...</td>\n",
       "    </tr>\n",
       "    <tr>\n",
       "      <th>4839</th>\n",
       "      <td>neutral</td>\n",
       "      <td>Rinkuskiai 's beer sales fell by 6.5 per cent ...</td>\n",
       "    </tr>\n",
       "    <tr>\n",
       "      <th>4840</th>\n",
       "      <td>negative</td>\n",
       "      <td>Operating profit fell to EUR 35.4 mn from EUR ...</td>\n",
       "    </tr>\n",
       "    <tr>\n",
       "      <th>4841</th>\n",
       "      <td>negative</td>\n",
       "      <td>Net sales of the Paper segment decreased to EU...</td>\n",
       "    </tr>\n",
       "    <tr>\n",
       "      <th>4842</th>\n",
       "      <td>negative</td>\n",
       "      <td>Sales in Finland decreased by 10.5 % in Januar...</td>\n",
       "    </tr>\n",
       "  </tbody>\n",
       "</table>\n",
       "<p>4837 rows × 2 columns</p>\n",
       "</div>"
      ],
      "text/plain": [
       "     sentiment                                      news_headline\n",
       "0      neutral  According to Gran , the company has no plans t...\n",
       "1      neutral  Technopolis plans to develop in stages an area...\n",
       "2     negative  The international electronic industry company ...\n",
       "3     positive  With the new production plant the company woul...\n",
       "4     positive  According to the company 's updated strategy f...\n",
       "...        ...                                                ...\n",
       "4838  negative  LONDON MarketWatch -- Share prices ended lower...\n",
       "4839   neutral  Rinkuskiai 's beer sales fell by 6.5 per cent ...\n",
       "4840  negative  Operating profit fell to EUR 35.4 mn from EUR ...\n",
       "4841  negative  Net sales of the Paper segment decreased to EU...\n",
       "4842  negative  Sales in Finland decreased by 10.5 % in Januar...\n",
       "\n",
       "[4837 rows x 2 columns]"
      ]
     },
     "execution_count": 8,
     "metadata": {},
     "output_type": "execute_result"
    }
   ],
   "source": [
    "df.drop_duplicates(subset=None, keep='first', inplace=False, ignore_index=False)"
   ]
  },
  {
   "cell_type": "markdown",
   "id": "e9f313db",
   "metadata": {},
   "source": [
    "## Distribution of Classes"
   ]
  },
  {
   "cell_type": "code",
   "execution_count": 9,
   "id": "5e93d7b7",
   "metadata": {
    "scrolled": true
   },
   "outputs": [
    {
     "data": {
      "image/png": "[encoded data removed]",
      "text/plain": [
       "<Figure size 576x432 with 1 Axes>"
      ]
     },
     "metadata": {
      "needs_background": "light"
     },
     "output_type": "display_data"
    }
   ],
   "source": [
    "plt.figure(figsize=(8,6))\n",
    "df.sentiment.hist(xlabelsize=14)\n",
    "plt.title('Is There A Sentiment In The News?', fontsize=20)\n",
    "plt.ylabel('News', fontsize=16)\n",
    "plt.show()"
   ]
  },
  {
   "cell_type": "code",
   "execution_count": 10,
   "id": "85c0538e",
   "metadata": {},
   "outputs": [],
   "source": [
    "df['tweet_len'] = df.news_headline.apply(len)"
   ]
  },
  {
   "cell_type": "code",
   "execution_count": 11,
   "id": "430b9c86",
   "metadata": {},
   "outputs": [
    {
     "data": {
      "image/png": "[encoded data removed]",
      "text/plain": [
       "<Figure size 432x288 with 1 Axes>"
      ]
     },
     "metadata": {
      "needs_background": "light"
     },
     "output_type": "display_data"
    }
   ],
   "source": [
    "df.tweet_len.hist()\n",
    "plt.title('news Length for All News')\n",
    "plt.xlabel('News Lengh')\n",
    "plt.ylabel('# of News')\n",
    "plt.show()"
   ]
  },
  {
   "cell_type": "code",
   "execution_count": 12,
   "id": "91986f64",
   "metadata": {},
   "outputs": [],
   "source": [
    "import string"
   ]
  },
  {
   "cell_type": "markdown",
   "id": "ac345e83",
   "metadata": {},
   "source": [
    "## Cleaning"
   ]
  },
  {
   "cell_type": "code",
   "execution_count": 13,
   "id": "07b1979a",
   "metadata": {},
   "outputs": [],
   "source": [
    "def remove_punct(text):\n",
    "    text_nopunct = ' '\n",
    "    text_nopunct = re.sub('['+string.punctuation+']', ' ', text)\n",
    "    return text_nopunct\n",
    "\n",
    "df['Text_Clean'] = df['news_headline'].apply(lambda x: remove_punct(x))"
   ]
  },
  {
   "cell_type": "code",
   "execution_count": 14,
   "id": "f903e076",
   "metadata": {},
   "outputs": [],
   "source": [
    "# fungsi clean digunakan membersihkan simbol atau frasa yang tidak diperlukan\n",
    "def cleanNews(news):\n",
    "    news = news.lower()\n",
    "    news = re.sub(r'\\d+', ' ', news) # remove digits\n",
    "    news = re.sub(r'\\n', ' ', news) # remove enter to 1 space\n",
    "    news = re.sub(r'\\s+', ' ', news)# remove extra spaces\n",
    "    return news\n",
    "\n",
    "# mengaplikasikan proses cleaning\n",
    "df['text_new'] = df.Text_Clean.astype(str).apply(cleanNews)"
   ]
  },
  {
   "cell_type": "code",
   "execution_count": 15,
   "id": "43a6abc7",
   "metadata": {},
   "outputs": [],
   "source": [
    "from nltk import word_tokenize, WordNetLemmatizer\n",
    "tokens = [word_tokenize(sen) for sen in df.text_new] "
   ]
  },
  {
   "cell_type": "code",
   "execution_count": 16,
   "id": "4d70950b",
   "metadata": {},
   "outputs": [],
   "source": [
    "def lower_token(tokens): \n",
    "    return [w.lower() for w in tokens]    \n",
    "    \n",
    "lower_tokens = [lower_token(token) for token in tokens] "
   ]
  },
  {
   "cell_type": "code",
   "execution_count": 17,
   "id": "13dc6224",
   "metadata": {},
   "outputs": [],
   "source": [
    "from nltk.corpus import stopwords\n",
    "stoplist = stopwords.words('english')"
   ]
  },
  {
   "cell_type": "code",
   "execution_count": 18,
   "id": "c1d36b4e",
   "metadata": {},
   "outputs": [],
   "source": [
    "def remove_stop_words(tokens): \n",
    "    return [word for word in tokens if word not in stoplist]"
   ]
  },
  {
   "cell_type": "code",
   "execution_count": 19,
   "id": "02b0c704",
   "metadata": {},
   "outputs": [],
   "source": [
    "filtered_words = [remove_stop_words(sen) for sen in lower_tokens] "
   ]
  },
  {
   "cell_type": "code",
   "execution_count": 20,
   "id": "403acf4e",
   "metadata": {},
   "outputs": [],
   "source": [
    "result = [' '.join(sen) for sen in filtered_words] "
   ]
  },
  {
   "cell_type": "code",
   "execution_count": 21,
   "id": "4562ddc5",
   "metadata": {},
   "outputs": [],
   "source": [
    "df['Text_Final'] = result"
   ]
  },
  {
   "cell_type": "code",
   "execution_count": 22,
   "id": "990681d2",
   "metadata": {},
   "outputs": [],
   "source": [
    "df['tokens'] = filtered_words"
   ]
  },
  {
   "cell_type": "code",
   "execution_count": 23,
   "id": "250c831a",
   "metadata": {},
   "outputs": [
    {
     "data": {
      "text/html": [
       "<div>\n",
       "<style scoped>\n",
       "    .dataframe tbody tr th:only-of-type {\n",
       "        vertical-align: middle;\n",
       "    }\n",
       "\n",
       "    .dataframe tbody tr th {\n",
       "        vertical-align: top;\n",
       "    }\n",
       "\n",
       "    .dataframe thead th {\n",
       "        text-align: right;\n",
       "    }\n",
       "</style>\n",
       "<table border=\"1\" class=\"dataframe\">\n",
       "  <thead>\n",
       "    <tr style=\"text-align: right;\">\n",
       "      <th></th>\n",
       "      <th>sentiment</th>\n",
       "      <th>news_headline</th>\n",
       "      <th>tweet_len</th>\n",
       "      <th>Text_Clean</th>\n",
       "      <th>text_new</th>\n",
       "      <th>Text_Final</th>\n",
       "      <th>tokens</th>\n",
       "    </tr>\n",
       "  </thead>\n",
       "  <tbody>\n",
       "    <tr>\n",
       "      <th>0</th>\n",
       "      <td>neutral</td>\n",
       "      <td>According to Gran , the company has no plans t...</td>\n",
       "      <td>127</td>\n",
       "      <td>According to Gran   the company has no plans t...</td>\n",
       "      <td>according to gran the company has no plans to ...</td>\n",
       "      <td>according gran company plans move production r...</td>\n",
       "      <td>[according, gran, company, plans, move, produc...</td>\n",
       "    </tr>\n",
       "    <tr>\n",
       "      <th>1</th>\n",
       "      <td>neutral</td>\n",
       "      <td>Technopolis plans to develop in stages an area...</td>\n",
       "      <td>190</td>\n",
       "      <td>Technopolis plans to develop in stages an area...</td>\n",
       "      <td>technopolis plans to develop in stages an area...</td>\n",
       "      <td>technopolis plans develop stages area less squ...</td>\n",
       "      <td>[technopolis, plans, develop, stages, area, le...</td>\n",
       "    </tr>\n",
       "    <tr>\n",
       "      <th>2</th>\n",
       "      <td>negative</td>\n",
       "      <td>The international electronic industry company ...</td>\n",
       "      <td>228</td>\n",
       "      <td>The international electronic industry company ...</td>\n",
       "      <td>the international electronic industry company ...</td>\n",
       "      <td>international electronic industry company elco...</td>\n",
       "      <td>[international, electronic, industry, company,...</td>\n",
       "    </tr>\n",
       "    <tr>\n",
       "      <th>3</th>\n",
       "      <td>positive</td>\n",
       "      <td>With the new production plant the company woul...</td>\n",
       "      <td>206</td>\n",
       "      <td>With the new production plant the company woul...</td>\n",
       "      <td>with the new production plant the company woul...</td>\n",
       "      <td>new production plant company would increase ca...</td>\n",
       "      <td>[new, production, plant, company, would, incre...</td>\n",
       "    </tr>\n",
       "    <tr>\n",
       "      <th>4</th>\n",
       "      <td>positive</td>\n",
       "      <td>According to the company 's updated strategy f...</td>\n",
       "      <td>203</td>\n",
       "      <td>According to the company  s updated strategy f...</td>\n",
       "      <td>according to the company s updated strategy fo...</td>\n",
       "      <td>according company updated strategy years baswa...</td>\n",
       "      <td>[according, company, updated, strategy, years,...</td>\n",
       "    </tr>\n",
       "    <tr>\n",
       "      <th>...</th>\n",
       "      <td>...</td>\n",
       "      <td>...</td>\n",
       "      <td>...</td>\n",
       "      <td>...</td>\n",
       "      <td>...</td>\n",
       "      <td>...</td>\n",
       "      <td>...</td>\n",
       "    </tr>\n",
       "    <tr>\n",
       "      <th>4838</th>\n",
       "      <td>negative</td>\n",
       "      <td>LONDON MarketWatch -- Share prices ended lower...</td>\n",
       "      <td>144</td>\n",
       "      <td>LONDON MarketWatch    Share prices ended lower...</td>\n",
       "      <td>london marketwatch share prices ended lower in...</td>\n",
       "      <td>london marketwatch share prices ended lower lo...</td>\n",
       "      <td>[london, marketwatch, share, prices, ended, lo...</td>\n",
       "    </tr>\n",
       "    <tr>\n",
       "      <th>4839</th>\n",
       "      <td>neutral</td>\n",
       "      <td>Rinkuskiai 's beer sales fell by 6.5 per cent ...</td>\n",
       "      <td>148</td>\n",
       "      <td>Rinkuskiai  s beer sales fell by 6 5 per cent ...</td>\n",
       "      <td>rinkuskiai s beer sales fell by per cent to mi...</td>\n",
       "      <td>rinkuskiai beer sales fell per cent million li...</td>\n",
       "      <td>[rinkuskiai, beer, sales, fell, per, cent, mil...</td>\n",
       "    </tr>\n",
       "    <tr>\n",
       "      <th>4840</th>\n",
       "      <td>negative</td>\n",
       "      <td>Operating profit fell to EUR 35.4 mn from EUR ...</td>\n",
       "      <td>108</td>\n",
       "      <td>Operating profit fell to EUR 35 4 mn from EUR ...</td>\n",
       "      <td>operating profit fell to eur mn from eur mn in...</td>\n",
       "      <td>operating profit fell eur mn eur mn including ...</td>\n",
       "      <td>[operating, profit, fell, eur, mn, eur, mn, in...</td>\n",
       "    </tr>\n",
       "    <tr>\n",
       "      <th>4841</th>\n",
       "      <td>negative</td>\n",
       "      <td>Net sales of the Paper segment decreased to EU...</td>\n",
       "      <td>226</td>\n",
       "      <td>Net sales of the Paper segment decreased to EU...</td>\n",
       "      <td>net sales of the paper segment decreased to eu...</td>\n",
       "      <td>net sales paper segment decreased eur mn secon...</td>\n",
       "      <td>[net, sales, paper, segment, decreased, eur, m...</td>\n",
       "    </tr>\n",
       "    <tr>\n",
       "      <th>4842</th>\n",
       "      <td>negative</td>\n",
       "      <td>Sales in Finland decreased by 10.5 % in Januar...</td>\n",
       "      <td>95</td>\n",
       "      <td>Sales in Finland decreased by 10 5   in Januar...</td>\n",
       "      <td>sales in finland decreased by in january while...</td>\n",
       "      <td>sales finland decreased january sales outside ...</td>\n",
       "      <td>[sales, finland, decreased, january, sales, ou...</td>\n",
       "    </tr>\n",
       "  </tbody>\n",
       "</table>\n",
       "<p>4843 rows × 7 columns</p>\n",
       "</div>"
      ],
      "text/plain": [
       "     sentiment                                      news_headline  tweet_len  \\\n",
       "0      neutral  According to Gran , the company has no plans t...        127   \n",
       "1      neutral  Technopolis plans to develop in stages an area...        190   \n",
       "2     negative  The international electronic industry company ...        228   \n",
       "3     positive  With the new production plant the company woul...        206   \n",
       "4     positive  According to the company 's updated strategy f...        203   \n",
       "...        ...                                                ...        ...   \n",
       "4838  negative  LONDON MarketWatch -- Share prices ended lower...        144   \n",
       "4839   neutral  Rinkuskiai 's beer sales fell by 6.5 per cent ...        148   \n",
       "4840  negative  Operating profit fell to EUR 35.4 mn from EUR ...        108   \n",
       "4841  negative  Net sales of the Paper segment decreased to EU...        226   \n",
       "4842  negative  Sales in Finland decreased by 10.5 % in Januar...         95   \n",
       "\n",
       "                                             Text_Clean  \\\n",
       "0     According to Gran   the company has no plans t...   \n",
       "1     Technopolis plans to develop in stages an area...   \n",
       "2     The international electronic industry company ...   \n",
       "3     With the new production plant the company woul...   \n",
       "4     According to the company  s updated strategy f...   \n",
       "...                                                 ...   \n",
       "4838  LONDON MarketWatch    Share prices ended lower...   \n",
       "4839  Rinkuskiai  s beer sales fell by 6 5 per cent ...   \n",
       "4840  Operating profit fell to EUR 35 4 mn from EUR ...   \n",
       "4841  Net sales of the Paper segment decreased to EU...   \n",
       "4842  Sales in Finland decreased by 10 5   in Januar...   \n",
       "\n",
       "                                               text_new  \\\n",
       "0     according to gran the company has no plans to ...   \n",
       "1     technopolis plans to develop in stages an area...   \n",
       "2     the international electronic industry company ...   \n",
       "3     with the new production plant the company woul...   \n",
       "4     according to the company s updated strategy fo...   \n",
       "...                                                 ...   \n",
       "4838  london marketwatch share prices ended lower in...   \n",
       "4839  rinkuskiai s beer sales fell by per cent to mi...   \n",
       "4840  operating profit fell to eur mn from eur mn in...   \n",
       "4841  net sales of the paper segment decreased to eu...   \n",
       "4842  sales in finland decreased by in january while...   \n",
       "\n",
       "                                             Text_Final  \\\n",
       "0     according gran company plans move production r...   \n",
       "1     technopolis plans develop stages area less squ...   \n",
       "2     international electronic industry company elco...   \n",
       "3     new production plant company would increase ca...   \n",
       "4     according company updated strategy years baswa...   \n",
       "...                                                 ...   \n",
       "4838  london marketwatch share prices ended lower lo...   \n",
       "4839  rinkuskiai beer sales fell per cent million li...   \n",
       "4840  operating profit fell eur mn eur mn including ...   \n",
       "4841  net sales paper segment decreased eur mn secon...   \n",
       "4842  sales finland decreased january sales outside ...   \n",
       "\n",
       "                                                 tokens  \n",
       "0     [according, gran, company, plans, move, produc...  \n",
       "1     [technopolis, plans, develop, stages, area, le...  \n",
       "2     [international, electronic, industry, company,...  \n",
       "3     [new, production, plant, company, would, incre...  \n",
       "4     [according, company, updated, strategy, years,...  \n",
       "...                                                 ...  \n",
       "4838  [london, marketwatch, share, prices, ended, lo...  \n",
       "4839  [rinkuskiai, beer, sales, fell, per, cent, mil...  \n",
       "4840  [operating, profit, fell, eur, mn, eur, mn, in...  \n",
       "4841  [net, sales, paper, segment, decreased, eur, m...  \n",
       "4842  [sales, finland, decreased, january, sales, ou...  \n",
       "\n",
       "[4843 rows x 7 columns]"
      ]
     },
     "execution_count": 23,
     "metadata": {},
     "output_type": "execute_result"
    }
   ],
   "source": [
    "df"
   ]
  },
  {
   "cell_type": "code",
   "execution_count": 24,
   "id": "367cf795",
   "metadata": {},
   "outputs": [],
   "source": [
    "df = df[['sentiment','Text_Final']]"
   ]
  },
  {
   "cell_type": "code",
   "execution_count": 25,
   "id": "2b236d4b",
   "metadata": {},
   "outputs": [
    {
     "data": {
      "text/html": [
       "<div>\n",
       "<style scoped>\n",
       "    .dataframe tbody tr th:only-of-type {\n",
       "        vertical-align: middle;\n",
       "    }\n",
       "\n",
       "    .dataframe tbody tr th {\n",
       "        vertical-align: top;\n",
       "    }\n",
       "\n",
       "    .dataframe thead th {\n",
       "        text-align: right;\n",
       "    }\n",
       "</style>\n",
       "<table border=\"1\" class=\"dataframe\">\n",
       "  <thead>\n",
       "    <tr style=\"text-align: right;\">\n",
       "      <th></th>\n",
       "      <th>sentiment</th>\n",
       "      <th>Text_Final</th>\n",
       "    </tr>\n",
       "  </thead>\n",
       "  <tbody>\n",
       "    <tr>\n",
       "      <th>0</th>\n",
       "      <td>neutral</td>\n",
       "      <td>according gran company plans move production r...</td>\n",
       "    </tr>\n",
       "    <tr>\n",
       "      <th>1</th>\n",
       "      <td>neutral</td>\n",
       "      <td>technopolis plans develop stages area less squ...</td>\n",
       "    </tr>\n",
       "    <tr>\n",
       "      <th>2</th>\n",
       "      <td>negative</td>\n",
       "      <td>international electronic industry company elco...</td>\n",
       "    </tr>\n",
       "    <tr>\n",
       "      <th>3</th>\n",
       "      <td>positive</td>\n",
       "      <td>new production plant company would increase ca...</td>\n",
       "    </tr>\n",
       "    <tr>\n",
       "      <th>4</th>\n",
       "      <td>positive</td>\n",
       "      <td>according company updated strategy years baswa...</td>\n",
       "    </tr>\n",
       "    <tr>\n",
       "      <th>...</th>\n",
       "      <td>...</td>\n",
       "      <td>...</td>\n",
       "    </tr>\n",
       "    <tr>\n",
       "      <th>4838</th>\n",
       "      <td>negative</td>\n",
       "      <td>london marketwatch share prices ended lower lo...</td>\n",
       "    </tr>\n",
       "    <tr>\n",
       "      <th>4839</th>\n",
       "      <td>neutral</td>\n",
       "      <td>rinkuskiai beer sales fell per cent million li...</td>\n",
       "    </tr>\n",
       "    <tr>\n",
       "      <th>4840</th>\n",
       "      <td>negative</td>\n",
       "      <td>operating profit fell eur mn eur mn including ...</td>\n",
       "    </tr>\n",
       "    <tr>\n",
       "      <th>4841</th>\n",
       "      <td>negative</td>\n",
       "      <td>net sales paper segment decreased eur mn secon...</td>\n",
       "    </tr>\n",
       "    <tr>\n",
       "      <th>4842</th>\n",
       "      <td>negative</td>\n",
       "      <td>sales finland decreased january sales outside ...</td>\n",
       "    </tr>\n",
       "  </tbody>\n",
       "</table>\n",
       "<p>4843 rows × 2 columns</p>\n",
       "</div>"
      ],
      "text/plain": [
       "     sentiment                                         Text_Final\n",
       "0      neutral  according gran company plans move production r...\n",
       "1      neutral  technopolis plans develop stages area less squ...\n",
       "2     negative  international electronic industry company elco...\n",
       "3     positive  new production plant company would increase ca...\n",
       "4     positive  according company updated strategy years baswa...\n",
       "...        ...                                                ...\n",
       "4838  negative  london marketwatch share prices ended lower lo...\n",
       "4839   neutral  rinkuskiai beer sales fell per cent million li...\n",
       "4840  negative  operating profit fell eur mn eur mn including ...\n",
       "4841  negative  net sales paper segment decreased eur mn secon...\n",
       "4842  negative  sales finland decreased january sales outside ...\n",
       "\n",
       "[4843 rows x 2 columns]"
      ]
     },
     "execution_count": 25,
     "metadata": {},
     "output_type": "execute_result"
    }
   ],
   "source": [
    "df"
   ]
  },
  {
   "cell_type": "code",
   "execution_count": 26,
   "id": "825e3cc5",
   "metadata": {},
   "outputs": [
    {
     "name": "stderr",
     "output_type": "stream",
     "text": [
      "c:\\users\\denni\\appdata\\local\\programs\\python\\python38\\lib\\site-packages\\pandas\\core\\generic.py:6619: SettingWithCopyWarning: \n",
      "A value is trying to be set on a copy of a slice from a DataFrame\n",
      "\n",
      "See the caveats in the documentation: https://pandas.pydata.org/pandas-docs/stable/user_guide/indexing.html#returning-a-view-versus-a-copy\n",
      "  return self._update_inplace(result)\n"
     ]
    }
   ],
   "source": [
    "# Encode target labels\n",
    "repl = {'neutral':0,'positive':1,'negative':2}\n",
    "df['sentiment'].replace(repl, inplace=True)"
   ]
  },
  {
   "cell_type": "code",
   "execution_count": 27,
   "id": "a0e14979",
   "metadata": {},
   "outputs": [],
   "source": [
    "from sklearn.model_selection import train_test_split"
   ]
  },
  {
   "cell_type": "code",
   "execution_count": 28,
   "id": "62fec410",
   "metadata": {},
   "outputs": [],
   "source": [
    "x_train, x_test, y_train, y_test = train_test_split(df[\"Text_Final\"],df[\"sentiment\"], test_size = 0.2, random_state = 42)"
   ]
  },
  {
   "cell_type": "code",
   "execution_count": 29,
   "id": "c9eabc48",
   "metadata": {},
   "outputs": [],
   "source": [
    "from sklearn.feature_extraction.text import CountVectorizer, TfidfTransformer"
   ]
  },
  {
   "cell_type": "code",
   "execution_count": 30,
   "id": "3a40ae0d",
   "metadata": {},
   "outputs": [],
   "source": [
    "count_vect = CountVectorizer(stop_words='english')\n",
    "transformer = TfidfTransformer(norm='l2',sublinear_tf=True)"
   ]
  },
  {
   "cell_type": "code",
   "execution_count": 31,
   "id": "23e3f38a",
   "metadata": {},
   "outputs": [],
   "source": [
    "x_train_counts = count_vect.fit_transform(x_train)\n",
    "x_train_tfidf = transformer.fit_transform(x_train_counts)"
   ]
  },
  {
   "cell_type": "code",
   "execution_count": 32,
   "id": "919f2031",
   "metadata": {},
   "outputs": [
    {
     "name": "stdout",
     "output_type": "stream",
     "text": [
      "(3874, 7776)\n",
      "(3874, 7776)\n"
     ]
    }
   ],
   "source": [
    "print(x_train_counts.shape)\n",
    "print(x_train_tfidf.shape)"
   ]
  },
  {
   "cell_type": "code",
   "execution_count": 33,
   "id": "1676c95e",
   "metadata": {},
   "outputs": [],
   "source": [
    "x_test_counts = count_vect.transform(x_test)\n",
    "x_test_tfidf = transformer.transform(x_test_counts)"
   ]
  },
  {
   "cell_type": "code",
   "execution_count": 34,
   "id": "4e2ac08a",
   "metadata": {},
   "outputs": [
    {
     "name": "stdout",
     "output_type": "stream",
     "text": [
      "(969, 7776)\n",
      "(969, 7776)\n"
     ]
    }
   ],
   "source": [
    "print(x_test_counts.shape)\n",
    "print(x_test_tfidf.shape)"
   ]
  },
  {
   "cell_type": "markdown",
   "id": "471e8cf5",
   "metadata": {},
   "source": [
    "# Logistic Regression"
   ]
  },
  {
   "cell_type": "code",
   "execution_count": 35,
   "id": "70e7f47f",
   "metadata": {},
   "outputs": [
    {
     "data": {
      "text/plain": [
       "LogisticRegression()"
      ]
     },
     "execution_count": 35,
     "metadata": {},
     "output_type": "execute_result"
    }
   ],
   "source": [
    "from sklearn.linear_model import LogisticRegression\n",
    "model1=LogisticRegression()\n",
    "model1.fit(x_train_tfidf,y_train)"
   ]
  },
  {
   "cell_type": "code",
   "execution_count": 36,
   "id": "0ffcd4ff",
   "metadata": {},
   "outputs": [],
   "source": [
    "predLR=model1.predict(x_test_tfidf)"
   ]
  },
  {
   "cell_type": "code",
   "execution_count": 37,
   "id": "34e1998f",
   "metadata": {},
   "outputs": [
    {
     "name": "stdout",
     "output_type": "stream",
     "text": [
      "[[536  23   3]\n",
      " [148 138   8]\n",
      " [ 50  18  45]]\n"
     ]
    }
   ],
   "source": [
    "from sklearn.metrics import confusion_matrix,f1_score\n",
    "c_m = confusion_matrix(y_test,predLR)\n",
    "print(c_m)"
   ]
  },
  {
   "cell_type": "code",
   "execution_count": 38,
   "id": "bf69c228",
   "metadata": {},
   "outputs": [
    {
     "data": {
      "text/plain": [
       "0.7420020639834881"
      ]
     },
     "execution_count": 38,
     "metadata": {},
     "output_type": "execute_result"
    }
   ],
   "source": [
    "from sklearn.metrics import accuracy_score\n",
    "accuracy_score(y_test,predLR)"
   ]
  },
  {
   "cell_type": "markdown",
   "id": "feb1be0d",
   "metadata": {},
   "source": [
    "# Decision Tree "
   ]
  },
  {
   "cell_type": "code",
   "execution_count": 39,
   "id": "27257c7b",
   "metadata": {},
   "outputs": [
    {
     "data": {
      "text/plain": [
       "DecisionTreeClassifier()"
      ]
     },
     "execution_count": 39,
     "metadata": {},
     "output_type": "execute_result"
    }
   ],
   "source": [
    "from sklearn.tree import DecisionTreeClassifier\n",
    "model2=DecisionTreeClassifier()\n",
    "model2.fit(x_train_tfidf,y_train)"
   ]
  },
  {
   "cell_type": "code",
   "execution_count": 40,
   "id": "4c60aa53",
   "metadata": {},
   "outputs": [],
   "source": [
    "predDT=model2.predict(x_test_tfidf)"
   ]
  },
  {
   "cell_type": "code",
   "execution_count": 41,
   "id": "32960284",
   "metadata": {},
   "outputs": [
    {
     "name": "stdout",
     "output_type": "stream",
     "text": [
      "[[437  88  37]\n",
      " [105 158  31]\n",
      " [ 44  19  50]]\n"
     ]
    }
   ],
   "source": [
    "c_m = confusion_matrix(y_test,predDT)\n",
    "print(c_m)"
   ]
  },
  {
   "cell_type": "code",
   "execution_count": 42,
   "id": "c5f9f31e",
   "metadata": {},
   "outputs": [
    {
     "data": {
      "text/plain": [
       "0.6656346749226006"
      ]
     },
     "execution_count": 42,
     "metadata": {},
     "output_type": "execute_result"
    }
   ],
   "source": [
    "accuracy_score(y_test,predDT)"
   ]
  },
  {
   "cell_type": "markdown",
   "id": "6fdbd829",
   "metadata": {},
   "source": [
    "# Support Vector Machines"
   ]
  },
  {
   "cell_type": "code",
   "execution_count": 43,
   "id": "74ce0bb0",
   "metadata": {},
   "outputs": [
    {
     "data": {
      "text/plain": [
       "SVC()"
      ]
     },
     "execution_count": 43,
     "metadata": {},
     "output_type": "execute_result"
    }
   ],
   "source": [
    "from sklearn.svm import SVC\n",
    "model3=SVC()\n",
    "model3.fit(x_train_tfidf,y_train)"
   ]
  },
  {
   "cell_type": "code",
   "execution_count": 44,
   "id": "310a640c",
   "metadata": {},
   "outputs": [],
   "source": [
    "predSVC=model3.predict(x_test_tfidf)"
   ]
  },
  {
   "cell_type": "code",
   "execution_count": 45,
   "id": "446dfc60",
   "metadata": {},
   "outputs": [
    {
     "name": "stdout",
     "output_type": "stream",
     "text": [
      "[[542  16   4]\n",
      " [176 109   9]\n",
      " [ 55  14  44]]\n"
     ]
    }
   ],
   "source": [
    "c_m = confusion_matrix(y_test,predSVC)\n",
    "print(c_m)"
   ]
  },
  {
   "cell_type": "code",
   "execution_count": 46,
   "id": "d5f60a24",
   "metadata": {},
   "outputs": [
    {
     "data": {
      "text/plain": [
       "0.717234262125903"
      ]
     },
     "execution_count": 46,
     "metadata": {},
     "output_type": "execute_result"
    }
   ],
   "source": [
    "accuracy_score(y_test,predSVC)"
   ]
  },
  {
   "cell_type": "markdown",
   "id": "cc9c26f7",
   "metadata": {},
   "source": [
    "# Random Forest"
   ]
  },
  {
   "cell_type": "code",
   "execution_count": 47,
   "id": "bf3477a5",
   "metadata": {},
   "outputs": [
    {
     "data": {
      "text/plain": [
       "RandomForestClassifier(n_estimators=200)"
      ]
     },
     "execution_count": 47,
     "metadata": {},
     "output_type": "execute_result"
    }
   ],
   "source": [
    "from sklearn.ensemble import RandomForestClassifier\n",
    "model4 = RandomForestClassifier(n_estimators=200)\n",
    "model4.fit(x_train_tfidf,y_train)"
   ]
  },
  {
   "cell_type": "code",
   "execution_count": 48,
   "id": "41e17ee1",
   "metadata": {},
   "outputs": [],
   "source": [
    "predRF = model4.predict(x_test_tfidf)"
   ]
  },
  {
   "cell_type": "code",
   "execution_count": 49,
   "id": "1180b48b",
   "metadata": {},
   "outputs": [
    {
     "data": {
      "text/plain": [
       "array([[537,  20,   5],\n",
       "       [137, 148,   9],\n",
       "       [ 45,  17,  51]], dtype=int64)"
      ]
     },
     "execution_count": 49,
     "metadata": {},
     "output_type": "execute_result"
    }
   ],
   "source": [
    "from sklearn.metrics import confusion_matrix,f1_score\n",
    "c_m = confusion_matrix(y_test,predRF)\n",
    "c_m"
   ]
  },
  {
   "cell_type": "code",
   "execution_count": 50,
   "id": "e0fbd180",
   "metadata": {},
   "outputs": [
    {
     "data": {
      "text/plain": [
       "0.759545923632611"
      ]
     },
     "execution_count": 50,
     "metadata": {},
     "output_type": "execute_result"
    }
   ],
   "source": [
    "accuracy_score(y_test,predRF)"
   ]
  },
  {
   "cell_type": "code",
   "execution_count": 51,
   "id": "614a0624",
   "metadata": {},
   "outputs": [
    {
     "name": "stdout",
     "output_type": "stream",
     "text": [
      "recall =  0.9640933572710951\n",
      "precision =  0.7967359050445104\n",
      "F1_score =  0.8724614134849716\n"
     ]
    }
   ],
   "source": [
    "tp,fn,fp,tn = c_m[0][0],c_m[0][1],c_m[1][0],c_m[1][1]\n",
    "precision = tp/(tp+fp)\n",
    "recall = tp/(tp+fn)\n",
    "f1score = 2 * (recall * precision) / (recall + precision)\n",
    "print(\"recall = \",recall)\n",
    "print(\"precision = \", precision)\n",
    "print(\"F1_score = \", f1score)"
   ]
  },
  {
   "cell_type": "code",
   "execution_count": 52,
   "id": "fed0e20d",
   "metadata": {
    "scrolled": false
   },
   "outputs": [
    {
     "data": {
      "image/png": "[encoded data removed]",
      "text/plain": [
       "<Figure size 720x360 with 1 Axes>"
      ]
     },
     "metadata": {
      "needs_background": "light"
     },
     "output_type": "display_data"
    }
   ],
   "source": [
    "mod_accuracy=[accuracy_score(y_test,predLR),accuracy_score(y_test,predDT),accuracy_score(y_test,predSVC),accuracy_score(y_test,predRF)]\n",
    "models=[\"Logistic regression\",\"Decision Tree\",\"Support Vector Machines\",\"Random Forest\"]\n",
    "plt.figure(figsize=(10,5))\n",
    "plt.plot(models,mod_accuracy,'bo',linestyle='solid',linewidth=2, markersize=10)\n",
    "plt.xlabel(\"Models used\")\n",
    "plt.ylabel(\"Accuracy\")\n",
    "plt.title(\"Models vs Accuracy\")\n",
    "plt.show()"
   ]
  }
 ],
 "metadata": {
  "kernelspec": {
   "display_name": "Python 3 (ipykernel)",
   "language": "python",
   "name": "python3"
  },
  "language_info": {
   "codemirror_mode": {
    "name": "ipython",
    "version": 3
   },
   "file_extension": ".py",
   "mimetype": "text/x-python",
   "name": "python",
   "nbconvert_exporter": "python",
   "pygments_lexer": "ipython3",
   "version": "3.8.7"
  }
 },
 "nbformat": 4,
 "nbformat_minor": 5
}
